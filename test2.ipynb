{
 "cells": [
  {
   "cell_type": "code",
   "execution_count": 30,
   "metadata": {},
   "outputs": [],
   "source": [
    "import pandas as pd\n",
    "import numpy as np\n",
    "from alfven_estimates import estimate_alfven, estimate_rossby, mass_class, measured_uncertainties, rad_class"
   ]
  },
  {
   "cell_type": "code",
   "execution_count": 31,
   "metadata": {},
   "outputs": [],
   "source": [
    "full_sample_path = \"current-exo-data/nasa_exo.csv\"\n",
    "full_sample = pd.read_csv(full_sample_path)\n",
    "full_sample = measured_uncertainties(full_sample)\n",
    "full_sample[\"vk\"] = full_sample[\"sy_vmag\"] - full_sample[\"sy_kmag\"]\n",
    "full_sample[\"mass_class\"] = mass_class(full_sample[\"pl_bmasse\"])\n",
    "full_sample[\"rad_class\"] = rad_class(full_sample[\"pl_rade\"])\n",
    "\n",
    "# pl data\n",
    "m = full_sample[\"st_mass\"]\n",
    "vk = full_sample[\"vk\"]# CHZ PLANET CUT"
   ]
  },
  {
   "cell_type": "code",
   "execution_count": 32,
   "metadata": {},
   "outputs": [
    {
     "data": {
      "text/plain": [
       "False"
      ]
     },
     "execution_count": 32,
     "metadata": {},
     "output_type": "execute_result"
    }
   ],
   "source": [
    "\"db\" in full_sample.columns"
   ]
  },
  {
   "cell_type": "code",
   "execution_count": 33,
   "metadata": {},
   "outputs": [
    {
     "name": "stdout",
     "output_type": "stream",
     "text": [
      "CHZ - [62] UPR\n",
      "CHZ - [323] Hill23+\n",
      "CHZ - [333] All\n"
     ]
    }
   ],
   "source": [
    "# chz flag\n",
    "exos_habitable = pd.read_csv(\"current-exo-data/exos_habitable.csv\")\n",
    "exos_hill23 = pd.read_csv(\"current-exo-data/exos_hill23.csv\")\n",
    "\n",
    "# habitable_pl_names = set(exos_habitable.pl_name)\n",
    "habitable_pl_names = set(exos_habitable[\"pl_name\"]).union(set(exos_hill23[\"pl_name\"]))\n",
    "full_sample[\"habitable\"] = full_sample.apply(lambda r: 1 if r[\"pl_name\"] in habitable_pl_names else 0, axis=1)\n",
    "\n",
    "print(\"CHZ - [{}] UPR\\nCHZ - [{}] Hill23+\\nCHZ - [{}] All\".format(len(exos_habitable), len(exos_hill23), len(habitable_pl_names)))"
   ]
  },
  {
   "cell_type": "code",
   "execution_count": 34,
   "metadata": {},
   "outputs": [
    {
     "name": "stdout",
     "output_type": "stream",
     "text": [
      "MASS CLASS\n",
      "EXOS - [32] No class\n",
      "EXOS - [80] Subterran (0.1 <= M <= 0.5)\n",
      "EXOS - [871] Terran (0.5 < M <= 3.0)\n",
      "EXOS - [2017] Superterran (3.0 < M <= 10.0)\n",
      "EXOS - [2496] Giant (M > 10.0)\n",
      "RADIUS CLASS\n",
      "EXOS - [38] No class\n",
      "EXOS - [72] Subterran (0.4 <= R <= 0.8)\n",
      "EXOS - [1021] Terran (0.8 < R <= 1.6)\n",
      "EXOS - [1281] Superterran (1.6 < R <= 2.5)\n",
      "EXOS - [3084] Giant (R > 2.5)\n"
     ]
    }
   ],
   "source": [
    "# Planet Class\n",
    "mclass = full_sample[\"mass_class\"]\n",
    "rclass = full_sample[\"rad_class\"]\n",
    "\n",
    "print(\"MASS CLASS\")\n",
    "print(\"EXOS - [{}] No class\".format(mclass[mclass == -1].count()))\n",
    "print(\"EXOS - [{}] Subterran (0.1 <= M <= 0.5)\".format(mclass[mclass == 0].count()))\n",
    "print(\"EXOS - [{}] Terran (0.5 < M <= 3.0)\".format(mclass[mclass == 1].count()))\n",
    "print(\"EXOS - [{}] Superterran (3.0 < M <= 10.0)\".format(mclass[mclass == 2].count()))\n",
    "print(\"EXOS - [{}] Giant (M > 10.0)\".format(mclass[mclass == 3].count()))\n",
    "\n",
    "print(\"RADIUS CLASS\")\n",
    "print(\"EXOS - [{}] No class\".format(rclass[rclass == -1].count()))\n",
    "print(\"EXOS - [{}] Subterran (0.4 <= R <= 0.8)\".format(rclass[rclass == 0].count()))\n",
    "print(\"EXOS - [{}] Terran (0.8 < R <= 1.6)\".format(rclass[rclass == 1].count()))\n",
    "print(\"EXOS - [{}] Superterran (1.6 < R <= 2.5)\".format(rclass[rclass == 2].count()))\n",
    "print(\"EXOS - [{}] Giant (R > 2.5)\".format(rclass[rclass == 3].count()))"
   ]
  },
  {
   "cell_type": "code",
   "execution_count": 35,
   "metadata": {},
   "outputs": [
    {
     "name": "stdout",
     "output_type": "stream",
     "text": [
      "EXOS - [5199] semi-major axis (a)\n",
      "EXOS - [4739] eccentricity (e)\n",
      "EXOS - [2594] uncertainty in semi-major axis (da)\n",
      "EXOS - [1552] uncertainty in eccentricity (de)\n"
     ]
    }
   ],
   "source": [
    "# ORBITAL DATA CUT\n",
    "\n",
    "print(\"EXOS - [{}] semi-major axis (a)\\nEXOS - [{}] eccentricity (e)\".format(\n",
    "    full_sample[\"pl_orbsmax\"].count(),\n",
    "    full_sample[\"pl_orbeccen\"].count()))\n",
    "print(\"EXOS - [{}] uncertainty in semi-major axis (da)\\nEXOS - [{}] uncertainty in eccentricity (de)\".format(\n",
    "    full_sample[\"pl_orbsmaxerr\"].count(),\n",
    "    full_sample[\"pl_orbeccenerr\"].count()))"
   ]
  },
  {
   "cell_type": "code",
   "execution_count": 36,
   "metadata": {},
   "outputs": [
    {
     "name": "stdout",
     "output_type": "stream",
     "text": [
      "EXOS - [5492] M*\n",
      "EXOS - [5271] V-K\n",
      "EXOS - [5066] 0.08 <= M* <= 1.36\n",
      "EXOS - [5133] 1.1 <= V-K <= 7.0\n"
     ]
    }
   ],
   "source": [
    "# STELLAR/INTERIOR CONVECTION TYPE CUT\n",
    "\n",
    "# planets with stellar data to calculate tauc\n",
    "print(\"EXOS - [{}] M*\\nEXOS - [{}] V-K\".format(m.count(), vk.count()))\n",
    "# planets with stellar data satisfying partially- or fully-convective stellar interior constraint from W18+ tauc\n",
    "print(\"EXOS - [{}] 0.08 <= M* <= 1.36\".format(m[np.fabs(m - 0.72) <= 0.64].count()))\n",
    "print(\"EXOS - [{}] 1.1 <= V-K <= 7.0\".format(vk[np.fabs(vk - 4.05) <= 2.95].count()))"
   ]
  },
  {
   "cell_type": "code",
   "execution_count": 37,
   "metadata": {},
   "outputs": [
    {
     "name": "stdout",
     "output_type": "stream",
     "text": [
      "HOSTS - [4096]\n"
     ]
    }
   ],
   "source": [
    "# st data\n",
    "full_sample_st = full_sample.drop_duplicates(subset=\"hostname\", keep=\"first\").drop([\"pl_name\", \"pl_letter\"], axis=\"columns\")\n",
    "\n",
    "m_st = full_sample_st[\"st_mass\"]\n",
    "vk_st = full_sample_st[\"vk\"]\n",
    "\n",
    "assert len(pd.unique(full_sample[\"hostname\"])) == len(full_sample_st)\n",
    "print(\"HOSTS - [{}]\".format(len(full_sample_st)))"
   ]
  },
  {
   "cell_type": "code",
   "execution_count": 38,
   "metadata": {},
   "outputs": [
    {
     "name": "stdout",
     "output_type": "stream",
     "text": [
      "HOSTS - [4093] M* \n",
      "HOSTS - [3880] V-K\n",
      "HOSTS - [3707] 0.08 <= M* <= 1.36\n",
      "HOSTS - [3772] 1.1 <= V-K <= 7.0\n"
     ]
    }
   ],
   "source": [
    "# stars with calculable tauc\n",
    "print(\"HOSTS - [{}] M* \\nHOSTS - [{}] V-K\".format(m_st.count(), vk_st.count()))\n",
    "# stars satisfying partially- or fully-convective stellar interior constraint from W18+ tauc\n",
    "print(\"HOSTS - [{}] 0.08 <= M* <= 1.36\".format(m_st[np.fabs(m_st - 0.72) <= 0.64].count()))\n",
    "print(\"HOSTS - [{}] 1.1 <= V-K <= 7.0\".format(vk_st[np.fabs(vk_st - 4.05) <= 2.95].count()))"
   ]
  },
  {
   "cell_type": "code",
   "execution_count": 39,
   "metadata": {},
   "outputs": [
    {
     "name": "stdout",
     "output_type": "stream",
     "text": [
      "db\n",
      "arm16      6\n",
      "lu22       3\n",
      "mar20     18\n",
      "mcq13    616\n",
      "mcq14      9\n",
      "nasa     372\n",
      "Name: Prot, dtype: int64\n"
     ]
    }
   ],
   "source": [
    "# ROTATION PERIOD CUT\n",
    "\n",
    "hosts_path = \"current-exo-data/hosts_prot.csv\"\n",
    "hosts = pd.read_csv(hosts_path)\n",
    "prot_sample = pd.merge(full_sample, hosts, on=\"hostname\")\n",
    "prot_sample_st = pd.merge(full_sample_st, hosts, on=\"hostname\")\n",
    "\n",
    "assert hosts[\"Prot\"].count() == prot_sample_st[\"Prot\"].count()\n",
    "assert hosts[\"e_Prot\"].count() == prot_sample_st[\"e_Prot\"].count()\n",
    "\n",
    "print(hosts.groupby(by=\"db\")[\"Prot\"].count())"
   ]
  },
  {
   "cell_type": "code",
   "execution_count": 40,
   "metadata": {},
   "outputs": [
    {
     "name": "stdout",
     "output_type": "stream",
     "text": [
      "HOSTS (R) - [1024] Prot\n",
      "HOSTS (R) - [929] e_Prot\n",
      "EXOS (R) - [1540] Prot\n",
      "EXOS (R)- [1405] e_Prot\n"
     ]
    }
   ],
   "source": [
    "print(\"HOSTS (R) - [{}] Prot\\nHOSTS (R) - [{}] e_Prot\".format(\n",
    "    prot_sample_st[\"Prot\"].count(),\n",
    "    prot_sample_st[\"e_Prot\"].count()))\n",
    "print(\"EXOS (R) - [{}] Prot\\nEXOS (R)- [{}] e_Prot\".format(\n",
    "    prot_sample[\"Prot\"].count(),\n",
    "    prot_sample[\"e_Prot\"].count()))"
   ]
  },
  {
   "cell_type": "code",
   "execution_count": 41,
   "metadata": {},
   "outputs": [
    {
     "name": "stdout",
     "output_type": "stream",
     "text": [
      "HOSTS (R) - [1022] V-K\n",
      "HOSTS (R)- [1024] M*\n",
      "EXOS (R) - [1538] V-K\n",
      "EXOS (R) - [1540] M*\n"
     ]
    }
   ],
   "source": [
    "# STELLAR/INTERIOR CONVECTION TYPE CUT (ROTATORS)\n",
    "\n",
    "print(\"HOSTS (R) - [{}] V-K\\nHOSTS (R)- [{}] M*\".format(\n",
    "    prot_sample_st[\"vk\"].count(),\n",
    "    prot_sample_st[\"st_mass\"].count()))\n",
    "print(\"EXOS (R) - [{}] V-K\\nEXOS (R) - [{}] M*\".format(\n",
    "    prot_sample[\"vk\"].count(),\n",
    "    prot_sample[\"st_mass\"].count()))"
   ]
  },
  {
   "cell_type": "code",
   "execution_count": 42,
   "metadata": {},
   "outputs": [
    {
     "name": "stdout",
     "output_type": "stream",
     "text": [
      "HOSTS (R) - [1019] dV\n",
      "HOSTS (R) - [1009] dK\n",
      "HOSTS (R) - [978] dM*\n",
      "EXOS (R) - [1532] dV\n",
      "EXOS (R) - [1516] dK\n",
      "EXOS (R) - [1457] dM*\n"
     ]
    }
   ],
   "source": [
    "print(\"HOSTS (R) - [{}] dV\\nHOSTS (R) - [{}] dK\\nHOSTS (R) - [{}] dM*\".format(\n",
    "    prot_sample_st[\"sy_vmagerr\"].count(),\n",
    "    prot_sample_st[\"sy_kmagerr\"].count(),\n",
    "    prot_sample_st[\"st_masserr\"].count()))\n",
    "print(\"EXOS (R) - [{}] dV\\nEXOS (R) - [{}] dK\\nEXOS (R) - [{}] dM*\".format(\n",
    "    prot_sample[\"sy_vmagerr\"].count(),\n",
    "    prot_sample[\"sy_kmagerr\"].count(),\n",
    "    prot_sample[\"st_masserr\"].count()))"
   ]
  },
  {
   "cell_type": "code",
   "execution_count": 43,
   "metadata": {},
   "outputs": [],
   "source": [
    "where_err = (prot_sample[\"sy_vmagerr\"].notnull() | prot_sample[\"sy_kmagerr\"].notnull()) ^ \\\n",
    "    (prot_sample[\"sy_vmagerr\"].notnull() & prot_sample[\"sy_kmagerr\"].notnull())\n",
    "where_err_st = (prot_sample_st[\"sy_vmagerr\"].notnull() | prot_sample_st[\"sy_kmagerr\"].notnull()) ^ \\\n",
    "    (prot_sample_st[\"sy_vmagerr\"].notnull() & prot_sample_st[\"sy_kmagerr\"].notnull())"
   ]
  },
  {
   "cell_type": "code",
   "execution_count": 44,
   "metadata": {},
   "outputs": [
    {
     "name": "stdout",
     "output_type": "stream",
     "text": [
      "HOSTS\n",
      "sy_vmagerr    13\n",
      "sy_kmagerr     3\n",
      "dtype: int64\n",
      "EXOS\n",
      "sy_vmagerr    20\n",
      "sy_kmagerr     4\n",
      "dtype: int64\n"
     ]
    }
   ],
   "source": [
    "print(\"HOSTS\")\n",
    "print(prot_sample_st.loc[where_err_st, [\"sy_vmagerr\", \"sy_kmagerr\"]].count())\n",
    "print(\"EXOS\")\n",
    "print(prot_sample.loc[where_err, [\"sy_vmagerr\", \"sy_kmagerr\"]].count())"
   ]
  },
  {
   "cell_type": "code",
   "execution_count": 45,
   "metadata": {},
   "outputs": [
    {
     "name": "stdout",
     "output_type": "stream",
     "text": [
      "EXOS (R) - [1491] semi-major axis (a)\n",
      "EXOS (R) - [1458] eccentricity (e)\n",
      "EXOS (R) - [629] uncertainty in semi-major axis (da)\n",
      "EXOS (R) - [411] uncertainty in eccentricity (de)\n"
     ]
    }
   ],
   "source": [
    "# ORBITAL DATA CUT (ROTATORS)\n",
    "print(\"EXOS (R) - [{}] semi-major axis (a)\\nEXOS (R) - [{}] eccentricity (e)\".format(\n",
    "    prot_sample[\"pl_orbsmax\"].count(),\n",
    "    prot_sample[\"pl_orbeccen\"].count()))\n",
    "print(\"EXOS (R) - [{}] uncertainty in semi-major axis (da)\\nEXOS (R) - [{}] uncertainty in eccentricity (de)\".format(\n",
    "    prot_sample[\"pl_orbsmaxerr\"].count(),\n",
    "    prot_sample[\"pl_orbeccenerr\"].count()))"
   ]
  },
  {
   "cell_type": "code",
   "execution_count": 46,
   "metadata": {},
   "outputs": [],
   "source": [
    "ro_sample = estimate_rossby(prot_sample)\n",
    "ro_sample_st = estimate_rossby(prot_sample_st)"
   ]
  },
  {
   "cell_type": "code",
   "execution_count": 47,
   "metadata": {},
   "outputs": [
    {
     "name": "stdout",
     "output_type": "stream",
     "text": [
      "no stellar rad: 0\n",
      "\n",
      "bad vals: 0\n",
      "\n"
     ]
    }
   ],
   "source": [
    "as_sample = estimate_alfven(ro_sample)"
   ]
  },
  {
   "cell_type": "code",
   "execution_count": 48,
   "metadata": {},
   "outputs": [],
   "source": [
    "where_CHZ = as_sample[\"habitable\"] == 1\n",
    "where_MHC = as_sample[\"MHC\"] > 1\n",
    "\n",
    "CHZ_sample = as_sample[where_CHZ]\n",
    "MHC_sample = as_sample[where_MHC]\n",
    "CHZ_MHC_sample = as_sample[where_CHZ & where_MHC]"
   ]
  },
  {
   "cell_type": "code",
   "execution_count": 49,
   "metadata": {},
   "outputs": [
    {
     "name": "stdout",
     "output_type": "stream",
     "text": [
      "pl_name    84\n",
      "MHC        84\n",
      "dMHC       53\n",
      "dtype: int64\n",
      "pl_name    620\n",
      "MHC        620\n",
      "dMHC       529\n",
      "dtype: int64\n",
      "pl_name    76\n",
      "MHC        76\n",
      "dMHC       48\n",
      "dtype: int64\n"
     ]
    }
   ],
   "source": [
    "print(CHZ_sample[[\"pl_name\", \"MHC\", \"dMHC\"]].count())\n",
    "print(MHC_sample[[\"pl_name\", \"MHC\", \"dMHC\"]].count())\n",
    "print(CHZ_MHC_sample[[\"pl_name\", \"MHC\", \"dMHC\"]].count())"
   ]
  },
  {
   "cell_type": "code",
   "execution_count": 50,
   "metadata": {},
   "outputs": [
    {
     "name": "stdout",
     "output_type": "stream",
     "text": [
      "[CHZ]             MHC  dMHC\n",
      "mass_class           \n",
      "0             1     1\n",
      "1            15    12\n",
      "2            21    17\n",
      "3            47    23\n",
      "\n",
      "\n",
      "[MHC>1]             MHC  dMHC\n",
      "mass_class           \n",
      "0             4     4\n",
      "1            63    58\n",
      "2           279   270\n",
      "3           274   197\n",
      "\n",
      "\n",
      "[CHZ, MHC>1]             MHC  dMHC\n",
      "mass_class           \n",
      "1            10     9\n",
      "2            19    16\n",
      "3            47    23\n"
     ]
    }
   ],
   "source": [
    "print(\"[CHZ]\",\n",
    "      CHZ_sample.groupby(by=\"mass_class\")[[\"MHC\", \"dMHC\"]].count())\n",
    "print(\"\\n\\n[MHC>1]\",\n",
    "      MHC_sample.groupby(by=\"mass_class\")[[\"MHC\", \"dMHC\"]].count())\n",
    "print(\"\\n\\n[CHZ, MHC>1]\",\n",
    "      CHZ_MHC_sample.groupby(by=\"mass_class\")[[\"MHC\", \"dMHC\"]].count())"
   ]
  },
  {
   "cell_type": "code",
   "execution_count": 51,
   "metadata": {},
   "outputs": [
    {
     "name": "stdout",
     "output_type": "stream",
     "text": [
      "[CHZ]            MHC  dMHC\n",
      "rad_class           \n",
      "0            1     1\n",
      "1           16    13\n",
      "2           14    13\n",
      "3           53    26\n",
      "\n",
      "\n",
      "[MHC>1]\n",
      "            MHC  dMHC\n",
      "rad_class           \n",
      "-1           2     2\n",
      " 0           4     4\n",
      " 1          72    67\n",
      " 2         167   161\n",
      " 3         375   295\n",
      "\n",
      "\n",
      "[CHZ, MHC>1]\n",
      "            MHC  dMHC\n",
      "rad_class           \n",
      "1           11    10\n",
      "2           12    12\n",
      "3           53    26\n"
     ]
    }
   ],
   "source": [
    "print(\"[CHZ]\",\n",
    "      CHZ_sample.groupby(by=\"rad_class\")[[\"MHC\", \"dMHC\"]].count())\n",
    "print(\"\\n\\n[MHC>1]\\n\",\n",
    "      MHC_sample.groupby(by=\"rad_class\")[[\"MHC\", \"dMHC\"]].count())\n",
    "print(\"\\n\\n[CHZ, MHC>1]\\n\",\n",
    "      CHZ_MHC_sample.groupby(by=\"rad_class\")[[\"MHC\", \"dMHC\"]].count())"
   ]
  },
  {
   "cell_type": "code",
   "execution_count": 54,
   "metadata": {},
   "outputs": [
    {
     "data": {
      "text/plain": [
       "56"
      ]
     },
     "execution_count": 54,
     "metadata": {},
     "output_type": "execute_result"
    }
   ],
   "source": [
    "prot_sample[prot_sample[\"pl_orbsmax\"].notnull() & prot_sample[\"pl_orbeccen\"].isnull()][\"pl_orbsmax\"].count()"
   ]
  },
  {
   "cell_type": "code",
   "execution_count": 55,
   "metadata": {},
   "outputs": [],
   "source": [
    "where_noecc = prot_sample[\"pl_orbeccen\"].isnull()\n",
    "where_ecc = prot_sample[\"pl_orbeccen\"].notnull()"
   ]
  },
  {
   "cell_type": "code",
   "execution_count": 62,
   "metadata": {},
   "outputs": [],
   "source": [
    "prot_sample.loc[where_noecc, \"rperi\"] = 0.0\n",
    "prot_sample.loc[where_ecc, \"rperi\"] = 1.0"
   ]
  },
  {
   "cell_type": "code",
   "execution_count": 65,
   "metadata": {},
   "outputs": [
    {
     "data": {
      "text/plain": [
       "1540"
      ]
     },
     "execution_count": 65,
     "metadata": {},
     "output_type": "execute_result"
    }
   ],
   "source": [
    "prot_sample[\"rperi\"].notnull().count()"
   ]
  },
  {
   "cell_type": "code",
   "execution_count": null,
   "metadata": {},
   "outputs": [],
   "source": []
  }
 ],
 "metadata": {
  "kernelspec": {
   "display_name": "astro",
   "language": "python",
   "name": "python3"
  },
  "language_info": {
   "codemirror_mode": {
    "name": "ipython",
    "version": 3
   },
   "file_extension": ".py",
   "mimetype": "text/x-python",
   "name": "python",
   "nbconvert_exporter": "python",
   "pygments_lexer": "ipython3",
   "version": "3.9.16"
  },
  "orig_nbformat": 4
 },
 "nbformat": 4,
 "nbformat_minor": 2
}
