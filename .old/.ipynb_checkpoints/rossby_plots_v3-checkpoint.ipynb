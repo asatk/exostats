{
 "cells": [
  {
   "cell_type": "code",
   "execution_count": 63,
   "id": "af1dad3e",
   "metadata": {
    "scrolled": false
   },
   "outputs": [],
   "source": [
    "import numpy as np\n",
    "import matplotlib as mpl\n",
    "import matplotlib.pyplot as plt\n",
    "import pandas as pd\n",
    "import re"
   ]
  },
  {
   "cell_type": "code",
   "execution_count": 64,
   "id": "accb74e0",
   "metadata": {},
   "outputs": [
    {
     "data": {
      "text/plain": [
       "Index(['name', 'hostname', 'hd_name', 'hip_name', 'tic', 'gaia', 'pl_orbsmax',\n",
       "       'pl_orbsmaxerr1', 'pl_orbsmaxerr2', 'pl_orbsmaxlim', 'pl_rade',\n",
       "       'pl_radeerr1', 'pl_radeerr2', 'pl_radelim', 'pl_bmasse',\n",
       "       'pl_bmasseerr1', 'pl_bmasseerr2', 'pl_bmasselim', 'pl_bmassprov',\n",
       "       'pl_orbeccen', 'pl_orbeccenerr1', 'pl_orbeccenerr2', 'pl_orbeccenlim',\n",
       "       'st_spectype', 'st_teff', 'st_tefferr1', 'st_tefferr2', 'st_tefflim',\n",
       "       'st_rad', 'st_raderr1', 'st_raderr2', 'st_radlim', 'st_mass',\n",
       "       'st_masserr1', 'st_masserr2', 'st_masslim', 'st_vsin', 'st_vsinerr1',\n",
       "       'st_vsinerr2', 'st_vsinlim', 'st_rotp', 'st_rotperr1', 'st_rotperr2',\n",
       "       'st_rotplim', 'sy_dist', 'sy_disterr1', 'sy_disterr2', 'sy_vmag',\n",
       "       'sy_vmagerr1', 'sy_vmagerr2', 'sy_kmag', 'sy_kmagerr1', 'sy_kmagerr2'],\n",
       "      dtype='object')"
      ]
     },
     "execution_count": 64,
     "metadata": {},
     "output_type": "execute_result"
    }
   ],
   "source": [
    "nasa_exo = pd.read_csv(\"nasa_exo_PSCP.csv\", header=59)\n",
    "nasa_exo.drop(['loc_rowid'], inplace=True, axis=1)\n",
    "# nasa_exo\n",
    "nasa_exo.columns\n",
    "# nasa_exo['name'].count()"
   ]
  },
  {
   "cell_type": "code",
   "execution_count": 115,
   "id": "a209456a",
   "metadata": {},
   "outputs": [
    {
     "data": {
      "text/plain": [
       "5026"
      ]
     },
     "execution_count": 115,
     "metadata": {},
     "output_type": "execute_result"
    }
   ],
   "source": [
    "nasa_exo_gaia = nasa_exo.apply(lambda x: int(x['gaia'][9:]) if len(str(x['gaia'])) > 9 else np.nan, axis=1)\n",
    "nasa_exo['GAIA'] = nasa_exo_gaia\n",
    "nasa_exo['GAIA'].count()"
   ]
  },
  {
   "cell_type": "code",
   "execution_count": 3,
   "id": "a9b50421",
   "metadata": {},
   "outputs": [
    {
     "data": {
      "text/plain": [
       "2671"
      ]
     },
     "execution_count": 3,
     "metadata": {},
     "output_type": "execute_result"
    }
   ],
   "source": [
    "nasa_kep_conf = pd.read_csv(\"nasa_exo_kep_confirmed.csv\", header=13)\n",
    "nasa_kep_conf['KOI'] = nasa_kep_conf.apply(lambda r: int(r['kepoi_name'][1:-3]), axis=1)\n",
    "nasa_kep_conf['KIC'] = nasa_kep_conf.apply(lambda r: int(r['kepid']), axis=1)\n",
    "# nasa_kep_conf\n",
    "nasa_kep_conf['kepid'].count()"
   ]
  },
  {
   "cell_type": "code",
   "execution_count": 4,
   "id": "05c95633",
   "metadata": {},
   "outputs": [
    {
     "data": {
      "text/plain": [
       "34030"
      ]
     },
     "execution_count": 4,
     "metadata": {},
     "output_type": "execute_result"
    }
   ],
   "source": [
    "mcq_kic = pd.read_csv(\"prot_mcq_2014.dat\", sep=\"\\s+\", low_memory=False)\n",
    "# mcq_kic\n",
    "# mcq_kic['TIC']\n",
    "mcq_kic['PRot'].count()"
   ]
  },
  {
   "cell_type": "code",
   "execution_count": 5,
   "id": "e25ec4b9",
   "metadata": {},
   "outputs": [
    {
     "data": {
      "text/plain": [
       "762"
      ]
     },
     "execution_count": 5,
     "metadata": {},
     "output_type": "execute_result"
    }
   ],
   "source": [
    "mcq_koi = pd.read_csv(\"prot_mcq_2013.dat\", sep=\"\\s+\")\n",
    "# mcq_koi\n",
    "mcq_koi['PRot'].count()"
   ]
  },
  {
   "cell_type": "code",
   "execution_count": 6,
   "id": "7afe2c4c",
   "metadata": {},
   "outputs": [
    {
     "data": {
      "text/plain": [
       "8"
      ]
     },
     "execution_count": 6,
     "metadata": {},
     "output_type": "execute_result"
    }
   ],
   "source": [
    "# should be 10? try to use full kep dataset, not just confirmed\n",
    "nasa_mcq_kic = pd.merge(nasa_kep_conf, mcq_kic, how='inner', on='KIC')\n",
    "# nasa_mcq_kic.head(20)\n",
    "nasa_mcq_kic['PRot'].count()"
   ]
  },
  {
   "cell_type": "code",
   "execution_count": 7,
   "id": "f46de38d",
   "metadata": {},
   "outputs": [
    {
     "data": {
      "text/plain": [
       "893"
      ]
     },
     "execution_count": 7,
     "metadata": {},
     "output_type": "execute_result"
    }
   ],
   "source": [
    "nasa_mcq_koi = pd.merge(nasa_kep_conf, mcq_koi, how='inner', on='KOI')\n",
    "nasa_mcq_koi[nasa_mcq_koi['KIC_x'] == nasa_mcq_koi['KIC_y']] #check if KIC matches for all\n",
    "nasa_mcq_koi.drop(['KIC_y'], axis=1, inplace=True)\n",
    "nasa_mcq_koi.rename(columns={'KIC_x': 'KIC'}, inplace=True)\n",
    "nasa_mcq_koi.head(20)\n",
    "nasa_mcq_koi['PRot'].count()"
   ]
  },
  {
   "cell_type": "code",
   "execution_count": 8,
   "id": "9decb281",
   "metadata": {},
   "outputs": [
    {
     "data": {
      "text/plain": [
       "901"
      ]
     },
     "execution_count": 8,
     "metadata": {},
     "output_type": "execute_result"
    }
   ],
   "source": [
    "nasa_kep_mcq = pd.merge(nasa_mcq_kic, nasa_mcq_koi, how='outer', on=None)\n",
    "#notnull reduces 2315 to 901\n",
    "nasa_kep_mcq_prot = nasa_kep_mcq.loc[nasa_kep_mcq['PRot'].notnull(), ['kepler_name','KOI','KIC','PRot','e_PRot']]\n",
    "nasa_kep_mcq_prot.rename(columns={'kepler_name': 'name'}, inplace=True)\n",
    "# nasa_kep_mcq_prot\n",
    "nasa_kep_mcq_prot['PRot'].count()"
   ]
  },
  {
   "cell_type": "code",
   "execution_count": 9,
   "id": "1ddbbf0b",
   "metadata": {},
   "outputs": [
    {
     "data": {
      "text/plain": [
       "894"
      ]
     },
     "execution_count": 9,
     "metadata": {},
     "output_type": "execute_result"
    }
   ],
   "source": [
    "nasa_mcq_prot = pd.merge(nasa_exo, nasa_kep_mcq_prot, how='inner', on='name')\n",
    "# nasa_mcq_prot\n",
    "nasa_mcq_prot['PRot'].count()"
   ]
  },
  {
   "cell_type": "code",
   "execution_count": 10,
   "id": "a048de39",
   "metadata": {},
   "outputs": [
    {
     "data": {
      "text/plain": [
       "255"
      ]
     },
     "execution_count": 10,
     "metadata": {},
     "output_type": "execute_result"
    }
   ],
   "source": [
    "martin = pd.read_csv(\"martins_tic_prot.csv\", usecols=[0,1,2,3,4])\n",
    "# martin.rename(columns={'Prot':'PRot'}, inplace=True)\n",
    "martin['TIC'] = martin.apply(lambda x: int(x['TIC_ID']), axis=1)\n",
    "martin.drop(columns=['TIC_ID'],inplace=True)\n",
    "# martin_selection = (martin['Variability_Classification'] == \"Unambiguous_Rotation\") & martin['Prot'].notnull()\n",
    "martin_selection = (martin['Variability_Classification'] == \"Unambiguous_Rotation\") | (martin['Variability_Classification'] == \"Dubious_Rotation\") & martin['Prot'].notnull()\n",
    "martin_prot = martin[martin_selection]\n",
    "# martin_prot\n",
    "martin_prot['Prot'].count()"
   ]
  },
  {
   "cell_type": "code",
   "execution_count": 11,
   "id": "75d9b680",
   "metadata": {},
   "outputs": [
    {
     "data": {
      "text/plain": [
       "5074"
      ]
     },
     "execution_count": 11,
     "metadata": {},
     "output_type": "execute_result"
    }
   ],
   "source": [
    "nasa_tic = nasa_exo[nasa_exo['tic'].notnull()].copy(deep=False)\n",
    "nasa_tic['TIC'] = nasa_tic.apply(lambda x: int(str(x['tic'])[4:]), axis=1)\n",
    "# nasa_tic\n",
    "nasa_tic['tic'].count()"
   ]
  },
  {
   "cell_type": "code",
   "execution_count": 12,
   "id": "147d3ec7",
   "metadata": {},
   "outputs": [
    {
     "data": {
      "text/plain": [
       "1.0"
      ]
     },
     "execution_count": 12,
     "metadata": {},
     "output_type": "execute_result"
    }
   ],
   "source": [
    "# fn = np.mean\n",
    "fn = np.min\n",
    "# fn = np.max\n",
    "# fn = lambda x: np.nan\n",
    "\n",
    "def select_prot_martin(prot_str):\n",
    "    if \"/\" in str(prot_str):\n",
    "        prots = prot_str.split(\"/\")\n",
    "        protf = []\n",
    "        for s in prots:\n",
    "            protf.append(float(s))\n",
    "        return fn(protf)\n",
    "    else: return float(prot_str)\n",
    "    \n",
    "select_prot_martin(\"1.0/2.0\")"
   ]
  },
  {
   "cell_type": "code",
   "execution_count": 13,
   "id": "7dfbcdf4",
   "metadata": {},
   "outputs": [
    {
     "data": {
      "text/plain": [
       "57"
      ]
     },
     "execution_count": 13,
     "metadata": {},
     "output_type": "execute_result"
    }
   ],
   "source": [
    "nasa_tic_martin = pd.merge(nasa_tic, martin_prot, how='inner', on='TIC')\n",
    "nasa_tic_martin['PRot'] = nasa_tic_martin.apply(lambda x: select_prot_martin(x['Prot']), axis=1)\n",
    "nasa_tic_martin['e_PRot'] = nasa_tic_martin['eProt']\n",
    "nasa_tic_martin = nasa_tic_martin[nasa_tic_martin['PRot'].notnull()]\n",
    "# nasa_tic_martin\n",
    "nasa_tic_martin['PRot'].count()"
   ]
  },
  {
   "cell_type": "code",
   "execution_count": 14,
   "id": "66437ce7",
   "metadata": {},
   "outputs": [
    {
     "data": {
      "text/plain": [
       "549"
      ]
     },
     "execution_count": 14,
     "metadata": {},
     "output_type": "execute_result"
    }
   ],
   "source": [
    "nasa_prot = nasa_exo[nasa_exo['st_rotp'].notnull()].copy()\n",
    "nasa_prot.rename(columns={'st_rotp': 'PRot', 'st_rotperr1': 'e_PRot'}, inplace=True)\n",
    "# nasa_prot\n",
    "nasa_prot.PRot.count()"
   ]
  },
  {
   "cell_type": "code",
   "execution_count": 15,
   "id": "7e8d25f2",
   "metadata": {},
   "outputs": [],
   "source": [
    "armstrong_prot = pd.read_csv(\"custom_prot.txt\", sep=\"\\s+\", header=14, nrows=7)\n",
    "armstrong_prot['PRot'] = armstrong_prot['prot_acf']\n",
    "armstrong_prot['e_PRot'] = armstrong_prot['eprot_acf']\n",
    "# armstrong_prot['PRot']"
   ]
  },
  {
   "cell_type": "code",
   "execution_count": 16,
   "id": "5307bead",
   "metadata": {},
   "outputs": [
    {
     "data": {
      "text/plain": [
       "20"
      ]
     },
     "execution_count": 16,
     "metadata": {},
     "output_type": "execute_result"
    }
   ],
   "source": [
    "nasa_armstrong = pd.merge(armstrong_prot, nasa_exo, how='inner', on='hostname')\n",
    "# nasa_armstrong\n",
    "nasa_armstrong.PRot.count()"
   ]
  },
  {
   "cell_type": "code",
   "execution_count": 17,
   "id": "943d76aa",
   "metadata": {},
   "outputs": [
    {
     "name": "stderr",
     "output_type": "stream",
     "text": [
      "/home/asatk/miniconda3/envs/astr3/lib/python3.9/site-packages/pandas/core/reshape/merge.py:916: FutureWarning: In a future version, the Index constructor will not infer numeric dtypes when passed object-dtype sequences (matching Series behavior)\n",
      "  key_col = Index(lvals).where(~mask_left, rvals)\n"
     ]
    },
    {
     "data": {
      "text/plain": [
       "569"
      ]
     },
     "execution_count": 17,
     "metadata": {},
     "output_type": "execute_result"
    }
   ],
   "source": [
    "#no intersection btwn nasa and armstrong prots\n",
    "# pd.merge(nasa_armstrong, nasa_prot, how='inner', on='name')\n",
    "nasa_armstrong_nasa = pd.merge(nasa_armstrong, nasa_prot, how='outer', on=None)\n",
    "# nasa_armstrong_nasa\n",
    "# nasa_armstrong_nasa['PRot'] = nasa_armstrong_nasa[['PRot_x','PRot_y']].sum(axis=1)\n",
    "nasa_armstrong_nasa.PRot.count()"
   ]
  },
  {
   "cell_type": "code",
   "execution_count": 18,
   "id": "5aed2640",
   "metadata": {},
   "outputs": [
    {
     "data": {
      "text/html": [
       "<div>\n",
       "<style scoped>\n",
       "    .dataframe tbody tr th:only-of-type {\n",
       "        vertical-align: middle;\n",
       "    }\n",
       "\n",
       "    .dataframe tbody tr th {\n",
       "        vertical-align: top;\n",
       "    }\n",
       "\n",
       "    .dataframe thead th {\n",
       "        text-align: right;\n",
       "    }\n",
       "</style>\n",
       "<table border=\"1\" class=\"dataframe\">\n",
       "  <thead>\n",
       "    <tr style=\"text-align: right;\">\n",
       "      <th></th>\n",
       "      <th>hostname</th>\n",
       "      <th>prot_acf</th>\n",
       "      <th>eprot_acf</th>\n",
       "      <th>prot_gws</th>\n",
       "      <th>eprot_gws</th>\n",
       "      <th>PRot</th>\n",
       "      <th>e_PRot</th>\n",
       "      <th>name</th>\n",
       "      <th>hd_name</th>\n",
       "      <th>hip_name</th>\n",
       "      <th>...</th>\n",
       "      <th>st_rotplim</th>\n",
       "      <th>sy_dist</th>\n",
       "      <th>sy_disterr1</th>\n",
       "      <th>sy_disterr2</th>\n",
       "      <th>sy_vmag</th>\n",
       "      <th>sy_vmagerr1</th>\n",
       "      <th>sy_vmagerr2</th>\n",
       "      <th>sy_kmag</th>\n",
       "      <th>sy_kmagerr1</th>\n",
       "      <th>sy_kmagerr2</th>\n",
       "    </tr>\n",
       "  </thead>\n",
       "  <tbody>\n",
       "    <tr>\n",
       "      <th>0</th>\n",
       "      <td>Kepler-61</td>\n",
       "      <td>35.55</td>\n",
       "      <td>0.38</td>\n",
       "      <td>34.8</td>\n",
       "      <td>5.0</td>\n",
       "      <td>35.55</td>\n",
       "      <td>0.38</td>\n",
       "      <td>Kepler-61 b</td>\n",
       "      <td>NaN</td>\n",
       "      <td>NaN</td>\n",
       "      <td>...</td>\n",
       "      <td>NaN</td>\n",
       "      <td>335.07900</td>\n",
       "      <td>5.00000</td>\n",
       "      <td>-4.85800</td>\n",
       "      <td>15.27700</td>\n",
       "      <td>0.069</td>\n",
       "      <td>-0.069</td>\n",
       "      <td>12.272</td>\n",
       "      <td>0.019</td>\n",
       "      <td>-0.019</td>\n",
       "    </tr>\n",
       "    <tr>\n",
       "      <th>1</th>\n",
       "      <td>Kepler-62</td>\n",
       "      <td>39.77</td>\n",
       "      <td>0.44</td>\n",
       "      <td>37.3</td>\n",
       "      <td>13.3</td>\n",
       "      <td>39.77</td>\n",
       "      <td>0.44</td>\n",
       "      <td>Kepler-62 b</td>\n",
       "      <td>NaN</td>\n",
       "      <td>NaN</td>\n",
       "      <td>...</td>\n",
       "      <td>NaN</td>\n",
       "      <td>300.87400</td>\n",
       "      <td>1.21900</td>\n",
       "      <td>-1.21900</td>\n",
       "      <td>13.96500</td>\n",
       "      <td>0.092</td>\n",
       "      <td>-0.092</td>\n",
       "      <td>11.659</td>\n",
       "      <td>0.021</td>\n",
       "      <td>-0.021</td>\n",
       "    </tr>\n",
       "    <tr>\n",
       "      <th>2</th>\n",
       "      <td>Kepler-62</td>\n",
       "      <td>39.77</td>\n",
       "      <td>0.44</td>\n",
       "      <td>37.3</td>\n",
       "      <td>13.3</td>\n",
       "      <td>39.77</td>\n",
       "      <td>0.44</td>\n",
       "      <td>Kepler-62 c</td>\n",
       "      <td>NaN</td>\n",
       "      <td>NaN</td>\n",
       "      <td>...</td>\n",
       "      <td>NaN</td>\n",
       "      <td>300.87400</td>\n",
       "      <td>1.21900</td>\n",
       "      <td>-1.21900</td>\n",
       "      <td>13.96500</td>\n",
       "      <td>0.092</td>\n",
       "      <td>-0.092</td>\n",
       "      <td>11.659</td>\n",
       "      <td>0.021</td>\n",
       "      <td>-0.021</td>\n",
       "    </tr>\n",
       "    <tr>\n",
       "      <th>3</th>\n",
       "      <td>Kepler-62</td>\n",
       "      <td>39.77</td>\n",
       "      <td>0.44</td>\n",
       "      <td>37.3</td>\n",
       "      <td>13.3</td>\n",
       "      <td>39.77</td>\n",
       "      <td>0.44</td>\n",
       "      <td>Kepler-62 d</td>\n",
       "      <td>NaN</td>\n",
       "      <td>NaN</td>\n",
       "      <td>...</td>\n",
       "      <td>NaN</td>\n",
       "      <td>300.87400</td>\n",
       "      <td>1.21900</td>\n",
       "      <td>-1.21900</td>\n",
       "      <td>13.96500</td>\n",
       "      <td>0.092</td>\n",
       "      <td>-0.092</td>\n",
       "      <td>11.659</td>\n",
       "      <td>0.021</td>\n",
       "      <td>-0.021</td>\n",
       "    </tr>\n",
       "    <tr>\n",
       "      <th>4</th>\n",
       "      <td>Kepler-62</td>\n",
       "      <td>39.77</td>\n",
       "      <td>0.44</td>\n",
       "      <td>37.3</td>\n",
       "      <td>13.3</td>\n",
       "      <td>39.77</td>\n",
       "      <td>0.44</td>\n",
       "      <td>Kepler-62 e</td>\n",
       "      <td>NaN</td>\n",
       "      <td>NaN</td>\n",
       "      <td>...</td>\n",
       "      <td>NaN</td>\n",
       "      <td>300.87400</td>\n",
       "      <td>1.21900</td>\n",
       "      <td>-1.21900</td>\n",
       "      <td>13.96500</td>\n",
       "      <td>0.092</td>\n",
       "      <td>-0.092</td>\n",
       "      <td>11.659</td>\n",
       "      <td>0.021</td>\n",
       "      <td>-0.021</td>\n",
       "    </tr>\n",
       "    <tr>\n",
       "      <th>...</th>\n",
       "      <td>...</td>\n",
       "      <td>...</td>\n",
       "      <td>...</td>\n",
       "      <td>...</td>\n",
       "      <td>...</td>\n",
       "      <td>...</td>\n",
       "      <td>...</td>\n",
       "      <td>...</td>\n",
       "      <td>...</td>\n",
       "      <td>...</td>\n",
       "      <td>...</td>\n",
       "      <td>...</td>\n",
       "      <td>...</td>\n",
       "      <td>...</td>\n",
       "      <td>...</td>\n",
       "      <td>...</td>\n",
       "      <td>...</td>\n",
       "      <td>...</td>\n",
       "      <td>...</td>\n",
       "      <td>...</td>\n",
       "      <td>...</td>\n",
       "    </tr>\n",
       "    <tr>\n",
       "      <th>564</th>\n",
       "      <td>tau Cet</td>\n",
       "      <td>NaN</td>\n",
       "      <td>NaN</td>\n",
       "      <td>NaN</td>\n",
       "      <td>NaN</td>\n",
       "      <td>34.50</td>\n",
       "      <td>NaN</td>\n",
       "      <td>tau Cet g</td>\n",
       "      <td>HD 10700</td>\n",
       "      <td>HIP 8102</td>\n",
       "      <td>...</td>\n",
       "      <td>0.0</td>\n",
       "      <td>3.60304</td>\n",
       "      <td>0.00678</td>\n",
       "      <td>-0.00675</td>\n",
       "      <td>3.49607</td>\n",
       "      <td>0.023</td>\n",
       "      <td>-0.023</td>\n",
       "      <td>1.794</td>\n",
       "      <td>0.274</td>\n",
       "      <td>-0.274</td>\n",
       "    </tr>\n",
       "    <tr>\n",
       "      <th>565</th>\n",
       "      <td>tau Cet</td>\n",
       "      <td>NaN</td>\n",
       "      <td>NaN</td>\n",
       "      <td>NaN</td>\n",
       "      <td>NaN</td>\n",
       "      <td>34.50</td>\n",
       "      <td>NaN</td>\n",
       "      <td>tau Cet h</td>\n",
       "      <td>HD 10700</td>\n",
       "      <td>HIP 8102</td>\n",
       "      <td>...</td>\n",
       "      <td>0.0</td>\n",
       "      <td>3.60304</td>\n",
       "      <td>0.00678</td>\n",
       "      <td>-0.00675</td>\n",
       "      <td>3.49607</td>\n",
       "      <td>0.023</td>\n",
       "      <td>-0.023</td>\n",
       "      <td>1.794</td>\n",
       "      <td>0.274</td>\n",
       "      <td>-0.274</td>\n",
       "    </tr>\n",
       "    <tr>\n",
       "      <th>566</th>\n",
       "      <td>ups And</td>\n",
       "      <td>NaN</td>\n",
       "      <td>NaN</td>\n",
       "      <td>NaN</td>\n",
       "      <td>NaN</td>\n",
       "      <td>12.00</td>\n",
       "      <td>NaN</td>\n",
       "      <td>ups And b</td>\n",
       "      <td>HD 9826</td>\n",
       "      <td>HIP 7513</td>\n",
       "      <td>...</td>\n",
       "      <td>0.0</td>\n",
       "      <td>13.40540</td>\n",
       "      <td>0.06350</td>\n",
       "      <td>-0.06290</td>\n",
       "      <td>4.09565</td>\n",
       "      <td>0.023</td>\n",
       "      <td>-0.023</td>\n",
       "      <td>2.859</td>\n",
       "      <td>0.274</td>\n",
       "      <td>-0.274</td>\n",
       "    </tr>\n",
       "    <tr>\n",
       "      <th>567</th>\n",
       "      <td>ups And</td>\n",
       "      <td>NaN</td>\n",
       "      <td>NaN</td>\n",
       "      <td>NaN</td>\n",
       "      <td>NaN</td>\n",
       "      <td>12.00</td>\n",
       "      <td>NaN</td>\n",
       "      <td>ups And c</td>\n",
       "      <td>HD 9826</td>\n",
       "      <td>HIP 7513</td>\n",
       "      <td>...</td>\n",
       "      <td>0.0</td>\n",
       "      <td>13.40540</td>\n",
       "      <td>0.06350</td>\n",
       "      <td>-0.06290</td>\n",
       "      <td>4.09565</td>\n",
       "      <td>0.023</td>\n",
       "      <td>-0.023</td>\n",
       "      <td>2.859</td>\n",
       "      <td>0.274</td>\n",
       "      <td>-0.274</td>\n",
       "    </tr>\n",
       "    <tr>\n",
       "      <th>568</th>\n",
       "      <td>ups And</td>\n",
       "      <td>NaN</td>\n",
       "      <td>NaN</td>\n",
       "      <td>NaN</td>\n",
       "      <td>NaN</td>\n",
       "      <td>12.00</td>\n",
       "      <td>NaN</td>\n",
       "      <td>ups And d</td>\n",
       "      <td>HD 9826</td>\n",
       "      <td>HIP 7513</td>\n",
       "      <td>...</td>\n",
       "      <td>0.0</td>\n",
       "      <td>13.40540</td>\n",
       "      <td>0.06350</td>\n",
       "      <td>-0.06290</td>\n",
       "      <td>4.09565</td>\n",
       "      <td>0.023</td>\n",
       "      <td>-0.023</td>\n",
       "      <td>2.859</td>\n",
       "      <td>0.274</td>\n",
       "      <td>-0.274</td>\n",
       "    </tr>\n",
       "  </tbody>\n",
       "</table>\n",
       "<p>569 rows × 59 columns</p>\n",
       "</div>"
      ],
      "text/plain": [
       "      hostname  prot_acf  eprot_acf  prot_gws  eprot_gws   PRot  e_PRot  \\\n",
       "0    Kepler-61     35.55       0.38      34.8        5.0  35.55    0.38   \n",
       "1    Kepler-62     39.77       0.44      37.3       13.3  39.77    0.44   \n",
       "2    Kepler-62     39.77       0.44      37.3       13.3  39.77    0.44   \n",
       "3    Kepler-62     39.77       0.44      37.3       13.3  39.77    0.44   \n",
       "4    Kepler-62     39.77       0.44      37.3       13.3  39.77    0.44   \n",
       "..         ...       ...        ...       ...        ...    ...     ...   \n",
       "564    tau Cet       NaN        NaN       NaN        NaN  34.50     NaN   \n",
       "565    tau Cet       NaN        NaN       NaN        NaN  34.50     NaN   \n",
       "566    ups And       NaN        NaN       NaN        NaN  12.00     NaN   \n",
       "567    ups And       NaN        NaN       NaN        NaN  12.00     NaN   \n",
       "568    ups And       NaN        NaN       NaN        NaN  12.00     NaN   \n",
       "\n",
       "            name   hd_name  hip_name  ... st_rotplim    sy_dist  sy_disterr1  \\\n",
       "0    Kepler-61 b       NaN       NaN  ...        NaN  335.07900      5.00000   \n",
       "1    Kepler-62 b       NaN       NaN  ...        NaN  300.87400      1.21900   \n",
       "2    Kepler-62 c       NaN       NaN  ...        NaN  300.87400      1.21900   \n",
       "3    Kepler-62 d       NaN       NaN  ...        NaN  300.87400      1.21900   \n",
       "4    Kepler-62 e       NaN       NaN  ...        NaN  300.87400      1.21900   \n",
       "..           ...       ...       ...  ...        ...        ...          ...   \n",
       "564    tau Cet g  HD 10700  HIP 8102  ...        0.0    3.60304      0.00678   \n",
       "565    tau Cet h  HD 10700  HIP 8102  ...        0.0    3.60304      0.00678   \n",
       "566    ups And b   HD 9826  HIP 7513  ...        0.0   13.40540      0.06350   \n",
       "567    ups And c   HD 9826  HIP 7513  ...        0.0   13.40540      0.06350   \n",
       "568    ups And d   HD 9826  HIP 7513  ...        0.0   13.40540      0.06350   \n",
       "\n",
       "     sy_disterr2   sy_vmag  sy_vmagerr1  sy_vmagerr2  sy_kmag  sy_kmagerr1  \\\n",
       "0       -4.85800  15.27700        0.069       -0.069   12.272        0.019   \n",
       "1       -1.21900  13.96500        0.092       -0.092   11.659        0.021   \n",
       "2       -1.21900  13.96500        0.092       -0.092   11.659        0.021   \n",
       "3       -1.21900  13.96500        0.092       -0.092   11.659        0.021   \n",
       "4       -1.21900  13.96500        0.092       -0.092   11.659        0.021   \n",
       "..           ...       ...          ...          ...      ...          ...   \n",
       "564     -0.00675   3.49607        0.023       -0.023    1.794        0.274   \n",
       "565     -0.00675   3.49607        0.023       -0.023    1.794        0.274   \n",
       "566     -0.06290   4.09565        0.023       -0.023    2.859        0.274   \n",
       "567     -0.06290   4.09565        0.023       -0.023    2.859        0.274   \n",
       "568     -0.06290   4.09565        0.023       -0.023    2.859        0.274   \n",
       "\n",
       "     sy_kmagerr2  \n",
       "0         -0.019  \n",
       "1         -0.021  \n",
       "2         -0.021  \n",
       "3         -0.021  \n",
       "4         -0.021  \n",
       "..           ...  \n",
       "564       -0.274  \n",
       "565       -0.274  \n",
       "566       -0.274  \n",
       "567       -0.274  \n",
       "568       -0.274  \n",
       "\n",
       "[569 rows x 59 columns]"
      ]
     },
     "execution_count": 18,
     "metadata": {},
     "output_type": "execute_result"
    }
   ],
   "source": [
    "nasa_armstrong_nasa"
   ]
  },
  {
   "cell_type": "code",
   "execution_count": 19,
   "id": "3d87550f",
   "metadata": {},
   "outputs": [
    {
     "name": "stdout",
     "output_type": "stream",
     "text": [
      "41 40 1 0 82\n"
     ]
    }
   ],
   "source": [
    "#mcq to nasa PRots look very similar: use mcq b/c more sig figs and mostly lie within 1sigma of nasa measurements\n",
    "nasa_intersection1 = pd.merge(nasa_mcq_prot, nasa_armstrong_nasa, how='inner', on='name')\n",
    "# nasa_intersection1[['PRot_x','PRot_y', 'st_rotperr1_x','st_rotperr2_x', 'name']]\n",
    "# nasa_intersection1['PRot_x'].count()\n",
    "\n",
    "#martin to nasa have some discrepancies: use martin b/c more recent\n",
    "nasa_intersection2 = pd.merge(nasa_tic_martin, nasa_armstrong_nasa, how='inner', on='name')\n",
    "# nasa_intersection2[['PRot_x','eProt','PRot_y','st_rotperr1_x','TIC','name']]\n",
    "# nasa_intersection2['PRot_x'].count()\n",
    "\n",
    "#martin to mcq only have one planet in common - use martin b/c more recent\n",
    "nasa_intersection3 = pd.merge(nasa_tic_martin, nasa_mcq_prot, how='inner', on='name')\n",
    "# nasa_intersection3[['PRot_x','eProt','PRot_y','e_PRot','st_rotperr1_x','name']]\n",
    "# nasa_intersection3['PRot_x'].count()\n",
    "\n",
    "nasa_intersection4 = pd.merge(nasa_intersection1, nasa_intersection2, how='inner', on='name')\n",
    "# # nasa_intersection4\n",
    "\n",
    "nasa_intersection = nasa_exo[nasa_exo.name.isin(nasa_intersection1.name) | nasa_exo.name.isin(nasa_intersection2.name) | nasa_exo.name.isin(nasa_intersection3.name)]\n",
    "# # nasa_intersection['name'].count()\n",
    "\n",
    "print(nasa_intersection1['PRot_x'].count(),nasa_intersection2['PRot_x'].count(),nasa_intersection3['PRot_x'].count(),nasa_intersection4['name'].count(),nasa_intersection['name'].count())"
   ]
  },
  {
   "cell_type": "code",
   "execution_count": 20,
   "id": "a00e5c26",
   "metadata": {},
   "outputs": [],
   "source": [
    "# nasa_exo[nasa_exo.name.isin(nasa_intersection1.name) | nasa_exo.name.isin(nasa_intersection2.name) | nasa_exo.name.isin(nasa_intersection3.name)]\n",
    "# nasa_exo[nasa_exo.name.isin(nasa_intersection1.name)]\n",
    "# nasa_exo[nasa_exo.name.isin(nasa_intersection2.name)]\n",
    "# nasa_exo[nasa_exo.name.isin(nasa_intersection3.name)]"
   ]
  },
  {
   "cell_type": "code",
   "execution_count": 21,
   "id": "c920a63d",
   "metadata": {},
   "outputs": [],
   "source": [
    "#amass all prot data here\n",
    "\n",
    "# merge mcq w/o mcq-martin; merge nasa w/o mcq-nasa or martin-nasa\n",
    "prot_merge1 = pd.merge(nasa_mcq_prot[~nasa_mcq_prot.name.isin(nasa_intersection3.name)],\n",
    "                      nasa_armstrong_nasa[~(nasa_armstrong_nasa.name.isin(nasa_intersection1.name) |\n",
    "                                  nasa_armstrong_nasa.name.isin(nasa_intersection2.name))], how='outer', on='name')\n",
    "prot_merge1\n",
    "\n",
    "# merge mcq+nasa w/o mcq-martin, martin-nasa; merge martin\n",
    "prot_merge2 = pd.merge(prot_merge1, nasa_tic_martin, how='outer', on='name')\n",
    "# prot_data\n",
    "# list(prot_data.columns)"
   ]
  },
  {
   "cell_type": "code",
   "execution_count": 22,
   "id": "3f4d1388",
   "metadata": {},
   "outputs": [
    {
     "name": "stdout",
     "output_type": "stream",
     "text": [
      "893 488 57\n",
      "893 362 43\n"
     ]
    }
   ],
   "source": [
    "# list(prot_merge2.columns)\n",
    "print(prot_merge2.PRot_x.count(),prot_merge2.PRot_y.count(),prot_merge2.PRot.count())\n",
    "print(prot_merge2.e_PRot_x.count(),prot_merge2.e_PRot_y.count(),prot_merge2.e_PRot.count())"
   ]
  },
  {
   "cell_type": "code",
   "execution_count": 23,
   "id": "5464331b",
   "metadata": {},
   "outputs": [],
   "source": [
    "# prot_merge2[prot_merge2[['e_PRot_x','e_PRot_y','e_PRot']].count(axis=1) > 1]"
   ]
  },
  {
   "cell_type": "code",
   "execution_count": 24,
   "id": "82e09dd3",
   "metadata": {},
   "outputs": [
    {
     "name": "stdout",
     "output_type": "stream",
     "text": [
      "1438 1298\n"
     ]
    }
   ],
   "source": [
    "prot_series = pd.Series(prot_merge2[['PRot_x','PRot_y','PRot']].sum(axis=1),name=\"PROT\")\n",
    "eprot_series = pd.Series(prot_merge2[['e_PRot_x','e_PRot_y','e_PRot']].sum(axis=1, min_count=1),name=\"E_PROT\")\n",
    "prot_df = pd.DataFrame([prot_merge2.name,prot_series,eprot_series]).T\n",
    "prot_data = pd.merge(prot_df, nasa_exo, how='inner', on='name')\n",
    "print(prot_data.PROT.count(),prot_data.E_PROT.count())"
   ]
  },
  {
   "cell_type": "code",
   "execution_count": 25,
   "id": "4cdacf7e",
   "metadata": {},
   "outputs": [],
   "source": [
    "# prot_data.columns"
   ]
  },
  {
   "cell_type": "code",
   "execution_count": 26,
   "id": "2891e1b0",
   "metadata": {},
   "outputs": [],
   "source": [
    "AVK = 0.64\n",
    "dAVK = 0.12\n",
    "BVK = 0.25\n",
    "dBVK = 0.08\n",
    "\n",
    "AM = 2.33\n",
    "dAM = 0.06\n",
    "BM = -1.50\n",
    "dBM = 0.21\n",
    "CM = 0.31\n",
    "dCM = 0.17\n",
    "\n",
    "LN10 = np.log(10)\n",
    "\n",
    "# wright et al 2018 (eqn 5): valid for range 1.1 < V-K < 7.0\n",
    "def taucVK(V, K):\n",
    "    if np.fabs(V - K - 4.05) <= 2.95:\n",
    "        return pow(10., AVK + BVK * (V - K))\n",
    "    else:\n",
    "        return np.nan\n",
    "    \n",
    "def dtaucVK(V, K, dV, dK):\n",
    "    return taucVK(V, K) * LN10 * np.sqrt(pow(dAVK, 2.) + \n",
    "                                         pow((V - K) * dBVK, 2.) + \n",
    "                                         pow(BVK * np.sqrt(pow(dV, 2.) + pow(dK, 2.)), 2.))\n",
    "\n",
    "def RoVK(Prot, V, K):\n",
    "    return np.fabs(Prot) / taucVK(V,K)\n",
    "\n",
    "def dRoVK(Prot, V, K, dProt, dV, dK):\n",
    "    return RoVK(Prot, V, K) * np.sqrt(pow(dProt / Prot, 2.) +\n",
    "                                      pow(dtaucVK(V, K, dV, dK) / taucVK(V, K), 2.))\n",
    "    \n",
    "    \n",
    "# wright et al 2018 (eqn 6): valid for range 0.08 < M/Msol < 1.36\n",
    "#M in solar masses\n",
    "def taucM(M):\n",
    "    if np.fabs(M - 0.72) <= 0.64:\n",
    "        return pow(10., AM + BM * M + CM * pow(M, 2.)) \n",
    "    else:\n",
    "        return np.nan\n",
    "    \n",
    "def dtaucM(M, dM):\n",
    "    return taucM(M) * LN10 * np.sqrt(pow(dAM, 2.) +\n",
    "                                     pow(M * dBM, 2.) +\n",
    "                                     pow(pow(M, 2.) * dCM, 2.) +\n",
    "                                     pow((2 * M * CM + BM) * dM, 2.))\n",
    "    \n",
    "def RoM(Prot, M):\n",
    "    return np.fabs(Prot) / taucM(M)\n",
    "\n",
    "def dRoM(Prot, M, dProt, dM):\n",
    "    return RoM(Prot, M) * np.sqrt(pow(dProt / Prot, 2.) + \n",
    "                                  pow(dtaucM(M, dM) / taucM(M), 2.))\n",
    "\n",
    "def RoAvg(RoVK, RoM):\n",
    "    return np.nanmean([RoVK, RoM])\n",
    "    \n",
    "def dRoAvg(dRoVK, dRoM):\n",
    "    return np.sqrt(np.nansum([pow(dRoVK, 2.),pow(dRoM, 2.)]))\n",
    "    "
   ]
  },
  {
   "cell_type": "code",
   "execution_count": 27,
   "id": "a8f8581d",
   "metadata": {},
   "outputs": [],
   "source": [
    "prot_data['sy_vmagerr'] = prot_data.apply(lambda x: np.max([x['sy_vmagerr1'],np.fabs(x['sy_vmagerr2'])]), axis=1)\n",
    "prot_data['sy_kmagerr'] = prot_data.apply(lambda x: np.max([x['sy_kmagerr1'],np.fabs(x['sy_kmagerr2'])]), axis=1)\n",
    "prot_data['st_masserr'] = prot_data.apply(lambda x: np.max([x['st_masserr1'],np.fabs(x['st_masserr2'])]), axis=1)\n",
    "prot_data['st_raderr'] = prot_data.apply(lambda x: np.max([x['st_raderr1'],np.fabs(x['st_raderr2'])]), axis=1)\n",
    "prot_data['pl_orbsmaxerr'] = prot_data.apply(lambda x: np.max([x['pl_orbsmaxerr1'],np.fabs(x['pl_orbsmaxerr2'])]), axis=1)\n",
    "prot_data['pl_orbeccenerr'] = prot_data.apply(lambda x: np.max([x['pl_orbeccenerr1'],np.fabs(x['pl_orbeccenerr2'])]), axis=1)"
   ]
  },
  {
   "cell_type": "code",
   "execution_count": 28,
   "id": "e454fc4a",
   "metadata": {},
   "outputs": [
    {
     "name": "stderr",
     "output_type": "stream",
     "text": [
      "<ipython-input-26-0b6a5c521c06>:57: RuntimeWarning: Mean of empty slice\n",
      "  return np.nanmean([RoVK, RoM])\n"
     ]
    }
   ],
   "source": [
    "prot_data['RoVK'] = prot_data.apply(lambda x: RoVK(x['PROT'], x['sy_vmag'], x['sy_kmag']), axis=1)\n",
    "prot_data['dRoVK'] = prot_data.apply(lambda x: dRoVK(x['PROT'], x['sy_vmag'], x['sy_kmag'], x['E_PROT'], x['sy_vmagerr'], x['sy_kmagerr']), axis=1)\n",
    "prot_data['TaucVK'] = prot_data.apply(lambda x: taucVK(x['sy_vmag'], x['sy_kmag']), axis=1)\n",
    "prot_data['dTaucVK'] = prot_data.apply(lambda x: dtaucVK(x['sy_vmag'], x['sy_kmag'], x['sy_vmagerr'], x['sy_kmagerr']), axis=1)\n",
    "prot_data['RoM'] = prot_data.apply(lambda x: RoM(x['PROT'], x['st_mass']), axis=1)\n",
    "prot_data['dRoM'] = prot_data.apply(lambda x: dRoM(x['PROT'], x['st_mass'], x['E_PROT'], x['st_masserr']), axis=1)\n",
    "prot_data['TaucM'] = prot_data.apply(lambda x: taucM(x['st_mass']), axis=1)\n",
    "prot_data['dTaucM'] = prot_data.apply(lambda x: dtaucM(x['st_mass'], x['st_masserr']), axis=1)\n",
    "prot_data['RoAvg'] = prot_data.apply(lambda x: RoAvg(x['RoVK'], x['RoM']), axis=1)\n",
    "prot_data['dRoAvg'] = prot_data.apply(lambda x: dRoAvg(x['dRoVK'], x['dRoM']), axis=1)"
   ]
  },
  {
   "cell_type": "code",
   "execution_count": 29,
   "id": "17da81a7",
   "metadata": {},
   "outputs": [],
   "source": [
    "#choose which Ro is used in plots\n",
    "prot_data['Ro'] = prot_data['RoM']\n",
    "prot_data['dRo'] = prot_data['dRoM']"
   ]
  },
  {
   "cell_type": "code",
   "execution_count": 30,
   "id": "102670f1",
   "metadata": {},
   "outputs": [
    {
     "data": {
      "text/html": [
       "<div>\n",
       "<style scoped>\n",
       "    .dataframe tbody tr th:only-of-type {\n",
       "        vertical-align: middle;\n",
       "    }\n",
       "\n",
       "    .dataframe tbody tr th {\n",
       "        vertical-align: top;\n",
       "    }\n",
       "\n",
       "    .dataframe thead th {\n",
       "        text-align: right;\n",
       "    }\n",
       "</style>\n",
       "<table border=\"1\" class=\"dataframe\">\n",
       "  <thead>\n",
       "    <tr style=\"text-align: right;\">\n",
       "      <th></th>\n",
       "      <th>name</th>\n",
       "      <th>PROT</th>\n",
       "      <th>E_PROT</th>\n",
       "      <th>hostname</th>\n",
       "      <th>hd_name</th>\n",
       "      <th>hip_name</th>\n",
       "      <th>tic</th>\n",
       "      <th>gaia_id</th>\n",
       "      <th>pl_orbsmax</th>\n",
       "      <th>pl_orbsmaxerr1</th>\n",
       "      <th>...</th>\n",
       "      <th>TaucVK</th>\n",
       "      <th>dTaucVK</th>\n",
       "      <th>RoM</th>\n",
       "      <th>dRoM</th>\n",
       "      <th>TaucM</th>\n",
       "      <th>dTaucM</th>\n",
       "      <th>RoAvg</th>\n",
       "      <th>dRoAvg</th>\n",
       "      <th>Ro</th>\n",
       "      <th>dRo</th>\n",
       "    </tr>\n",
       "  </thead>\n",
       "  <tbody>\n",
       "    <tr>\n",
       "      <th>0</th>\n",
       "      <td>Kepler-100 b</td>\n",
       "      <td>24.988</td>\n",
       "      <td>2.192</td>\n",
       "      <td>Kepler-100</td>\n",
       "      <td>NaN</td>\n",
       "      <td>NaN</td>\n",
       "      <td>TIC 159654016</td>\n",
       "      <td>Gaia DR2 2101733244046205568</td>\n",
       "      <td>0.07200</td>\n",
       "      <td>NaN</td>\n",
       "      <td>...</td>\n",
       "      <td>9.156932</td>\n",
       "      <td>3.335142</td>\n",
       "      <td>2.119081</td>\n",
       "      <td>1.529742</td>\n",
       "      <td>11.791906</td>\n",
       "      <td>8.449371</td>\n",
       "      <td>2.423971</td>\n",
       "      <td>1.839909</td>\n",
       "      <td>2.119081</td>\n",
       "      <td>1.529742</td>\n",
       "    </tr>\n",
       "    <tr>\n",
       "      <th>1</th>\n",
       "      <td>Kepler-100 c</td>\n",
       "      <td>24.988</td>\n",
       "      <td>2.192</td>\n",
       "      <td>Kepler-100</td>\n",
       "      <td>NaN</td>\n",
       "      <td>NaN</td>\n",
       "      <td>TIC 159654016</td>\n",
       "      <td>Gaia DR2 2101733244046205568</td>\n",
       "      <td>0.10900</td>\n",
       "      <td>NaN</td>\n",
       "      <td>...</td>\n",
       "      <td>9.156932</td>\n",
       "      <td>3.335142</td>\n",
       "      <td>2.119081</td>\n",
       "      <td>1.529742</td>\n",
       "      <td>11.791906</td>\n",
       "      <td>8.449371</td>\n",
       "      <td>2.423971</td>\n",
       "      <td>1.839909</td>\n",
       "      <td>2.119081</td>\n",
       "      <td>1.529742</td>\n",
       "    </tr>\n",
       "    <tr>\n",
       "      <th>2</th>\n",
       "      <td>Kepler-100 d</td>\n",
       "      <td>24.988</td>\n",
       "      <td>2.192</td>\n",
       "      <td>Kepler-100</td>\n",
       "      <td>NaN</td>\n",
       "      <td>NaN</td>\n",
       "      <td>TIC 159654016</td>\n",
       "      <td>Gaia DR2 2101733244046205568</td>\n",
       "      <td>0.21430</td>\n",
       "      <td>NaN</td>\n",
       "      <td>...</td>\n",
       "      <td>9.156932</td>\n",
       "      <td>3.335142</td>\n",
       "      <td>2.119081</td>\n",
       "      <td>1.529742</td>\n",
       "      <td>11.791906</td>\n",
       "      <td>8.449371</td>\n",
       "      <td>2.423971</td>\n",
       "      <td>1.839909</td>\n",
       "      <td>2.119081</td>\n",
       "      <td>1.529742</td>\n",
       "    </tr>\n",
       "    <tr>\n",
       "      <th>3</th>\n",
       "      <td>Kepler-1001 b</td>\n",
       "      <td>19.836</td>\n",
       "      <td>0.034</td>\n",
       "      <td>Kepler-1001</td>\n",
       "      <td>NaN</td>\n",
       "      <td>NaN</td>\n",
       "      <td>TIC 405719252</td>\n",
       "      <td>Gaia DR2 2131178238457347712</td>\n",
       "      <td>0.11290</td>\n",
       "      <td>NaN</td>\n",
       "      <td>...</td>\n",
       "      <td>13.182567</td>\n",
       "      <td>6.002171</td>\n",
       "      <td>1.165076</td>\n",
       "      <td>0.659860</td>\n",
       "      <td>17.025505</td>\n",
       "      <td>9.642639</td>\n",
       "      <td>1.334895</td>\n",
       "      <td>0.951211</td>\n",
       "      <td>1.165076</td>\n",
       "      <td>0.659860</td>\n",
       "    </tr>\n",
       "    <tr>\n",
       "      <th>4</th>\n",
       "      <td>Kepler-1001 c</td>\n",
       "      <td>19.836</td>\n",
       "      <td>0.034</td>\n",
       "      <td>Kepler-1001</td>\n",
       "      <td>NaN</td>\n",
       "      <td>NaN</td>\n",
       "      <td>TIC 405719252</td>\n",
       "      <td>Gaia DR2 2131178238457347712</td>\n",
       "      <td>0.08400</td>\n",
       "      <td>NaN</td>\n",
       "      <td>...</td>\n",
       "      <td>13.182567</td>\n",
       "      <td>6.002171</td>\n",
       "      <td>1.242611</td>\n",
       "      <td>NaN</td>\n",
       "      <td>15.963165</td>\n",
       "      <td>NaN</td>\n",
       "      <td>1.373663</td>\n",
       "      <td>0.685118</td>\n",
       "      <td>1.242611</td>\n",
       "      <td>NaN</td>\n",
       "    </tr>\n",
       "    <tr>\n",
       "      <th>...</th>\n",
       "      <td>...</td>\n",
       "      <td>...</td>\n",
       "      <td>...</td>\n",
       "      <td>...</td>\n",
       "      <td>...</td>\n",
       "      <td>...</td>\n",
       "      <td>...</td>\n",
       "      <td>...</td>\n",
       "      <td>...</td>\n",
       "      <td>...</td>\n",
       "      <td>...</td>\n",
       "      <td>...</td>\n",
       "      <td>...</td>\n",
       "      <td>...</td>\n",
       "      <td>...</td>\n",
       "      <td>...</td>\n",
       "      <td>...</td>\n",
       "      <td>...</td>\n",
       "      <td>...</td>\n",
       "      <td>...</td>\n",
       "      <td>...</td>\n",
       "    </tr>\n",
       "    <tr>\n",
       "      <th>1433</th>\n",
       "      <td>WASP-43 b</td>\n",
       "      <td>7.4</td>\n",
       "      <td>NaN</td>\n",
       "      <td>WASP-43</td>\n",
       "      <td>NaN</td>\n",
       "      <td>NaN</td>\n",
       "      <td>TIC 36734222</td>\n",
       "      <td>Gaia DR2 3767805209112436736</td>\n",
       "      <td>0.01420</td>\n",
       "      <td>0.00040</td>\n",
       "      <td>...</td>\n",
       "      <td>25.089962</td>\n",
       "      <td>15.685196</td>\n",
       "      <td>0.201812</td>\n",
       "      <td>NaN</td>\n",
       "      <td>36.667728</td>\n",
       "      <td>NaN</td>\n",
       "      <td>0.248376</td>\n",
       "      <td>0.000000</td>\n",
       "      <td>0.201812</td>\n",
       "      <td>NaN</td>\n",
       "    </tr>\n",
       "    <tr>\n",
       "      <th>1434</th>\n",
       "      <td>WASP-50 b</td>\n",
       "      <td>5.488</td>\n",
       "      <td>0.753</td>\n",
       "      <td>WASP-50</td>\n",
       "      <td>NaN</td>\n",
       "      <td>NaN</td>\n",
       "      <td>TIC 382391899</td>\n",
       "      <td>Gaia DR2 5160557726183065984</td>\n",
       "      <td>0.02930</td>\n",
       "      <td>0.00130</td>\n",
       "      <td>...</td>\n",
       "      <td>10.180052</td>\n",
       "      <td>3.944573</td>\n",
       "      <td>0.315401</td>\n",
       "      <td>0.186530</td>\n",
       "      <td>17.400070</td>\n",
       "      <td>10.009733</td>\n",
       "      <td>0.427247</td>\n",
       "      <td>0.289653</td>\n",
       "      <td>0.315401</td>\n",
       "      <td>0.186530</td>\n",
       "    </tr>\n",
       "    <tr>\n",
       "      <th>1435</th>\n",
       "      <td>WASP-77 A b</td>\n",
       "      <td>5.0</td>\n",
       "      <td>NaN</td>\n",
       "      <td>WASP-77 A</td>\n",
       "      <td>NaN</td>\n",
       "      <td>NaN</td>\n",
       "      <td>TIC 1129033</td>\n",
       "      <td>Gaia DR2 5178405479960844160</td>\n",
       "      <td>0.02335</td>\n",
       "      <td>0.00045</td>\n",
       "      <td>...</td>\n",
       "      <td>12.949411</td>\n",
       "      <td>5.758672</td>\n",
       "      <td>0.293677</td>\n",
       "      <td>NaN</td>\n",
       "      <td>17.025505</td>\n",
       "      <td>9.810885</td>\n",
       "      <td>0.339898</td>\n",
       "      <td>0.000000</td>\n",
       "      <td>0.293677</td>\n",
       "      <td>NaN</td>\n",
       "    </tr>\n",
       "    <tr>\n",
       "      <th>1436</th>\n",
       "      <td>WASP-8 b</td>\n",
       "      <td>7.247</td>\n",
       "      <td>1.094</td>\n",
       "      <td>WASP-8</td>\n",
       "      <td>NaN</td>\n",
       "      <td>NaN</td>\n",
       "      <td>TIC 183532609</td>\n",
       "      <td>Gaia DR2 2312679845530628096</td>\n",
       "      <td>0.08010</td>\n",
       "      <td>0.00150</td>\n",
       "      <td>...</td>\n",
       "      <td>11.634561</td>\n",
       "      <td>4.866195</td>\n",
       "      <td>0.962769</td>\n",
       "      <td>1.017188</td>\n",
       "      <td>7.527244</td>\n",
       "      <td>7.871110</td>\n",
       "      <td>0.792827</td>\n",
       "      <td>1.054223</td>\n",
       "      <td>0.962769</td>\n",
       "      <td>1.017188</td>\n",
       "    </tr>\n",
       "    <tr>\n",
       "      <th>1437</th>\n",
       "      <td>WASP-8 c</td>\n",
       "      <td>7.247</td>\n",
       "      <td>1.094</td>\n",
       "      <td>WASP-8</td>\n",
       "      <td>NaN</td>\n",
       "      <td>NaN</td>\n",
       "      <td>TIC 183532609</td>\n",
       "      <td>Gaia DR2 2312679845530628096</td>\n",
       "      <td>5.28000</td>\n",
       "      <td>0.63000</td>\n",
       "      <td>...</td>\n",
       "      <td>11.634561</td>\n",
       "      <td>4.866195</td>\n",
       "      <td>0.568673</td>\n",
       "      <td>0.401644</td>\n",
       "      <td>12.743714</td>\n",
       "      <td>8.792682</td>\n",
       "      <td>0.595779</td>\n",
       "      <td>0.487886</td>\n",
       "      <td>0.568673</td>\n",
       "      <td>0.401644</td>\n",
       "    </tr>\n",
       "  </tbody>\n",
       "</table>\n",
       "<p>1438 rows × 73 columns</p>\n",
       "</div>"
      ],
      "text/plain": [
       "               name    PROT E_PROT     hostname hd_name hip_name  \\\n",
       "0      Kepler-100 b  24.988  2.192   Kepler-100     NaN      NaN   \n",
       "1      Kepler-100 c  24.988  2.192   Kepler-100     NaN      NaN   \n",
       "2      Kepler-100 d  24.988  2.192   Kepler-100     NaN      NaN   \n",
       "3     Kepler-1001 b  19.836  0.034  Kepler-1001     NaN      NaN   \n",
       "4     Kepler-1001 c  19.836  0.034  Kepler-1001     NaN      NaN   \n",
       "...             ...     ...    ...          ...     ...      ...   \n",
       "1433      WASP-43 b     7.4    NaN      WASP-43     NaN      NaN   \n",
       "1434      WASP-50 b   5.488  0.753      WASP-50     NaN      NaN   \n",
       "1435    WASP-77 A b     5.0    NaN    WASP-77 A     NaN      NaN   \n",
       "1436       WASP-8 b   7.247  1.094       WASP-8     NaN      NaN   \n",
       "1437       WASP-8 c   7.247  1.094       WASP-8     NaN      NaN   \n",
       "\n",
       "                tic                       gaia_id  pl_orbsmax  pl_orbsmaxerr1  \\\n",
       "0     TIC 159654016  Gaia DR2 2101733244046205568     0.07200             NaN   \n",
       "1     TIC 159654016  Gaia DR2 2101733244046205568     0.10900             NaN   \n",
       "2     TIC 159654016  Gaia DR2 2101733244046205568     0.21430             NaN   \n",
       "3     TIC 405719252  Gaia DR2 2131178238457347712     0.11290             NaN   \n",
       "4     TIC 405719252  Gaia DR2 2131178238457347712     0.08400             NaN   \n",
       "...             ...                           ...         ...             ...   \n",
       "1433   TIC 36734222  Gaia DR2 3767805209112436736     0.01420         0.00040   \n",
       "1434  TIC 382391899  Gaia DR2 5160557726183065984     0.02930         0.00130   \n",
       "1435    TIC 1129033  Gaia DR2 5178405479960844160     0.02335         0.00045   \n",
       "1436  TIC 183532609  Gaia DR2 2312679845530628096     0.08010         0.00150   \n",
       "1437  TIC 183532609  Gaia DR2 2312679845530628096     5.28000         0.63000   \n",
       "\n",
       "      ...     TaucVK    dTaucVK       RoM      dRoM      TaucM     dTaucM  \\\n",
       "0     ...   9.156932   3.335142  2.119081  1.529742  11.791906   8.449371   \n",
       "1     ...   9.156932   3.335142  2.119081  1.529742  11.791906   8.449371   \n",
       "2     ...   9.156932   3.335142  2.119081  1.529742  11.791906   8.449371   \n",
       "3     ...  13.182567   6.002171  1.165076  0.659860  17.025505   9.642639   \n",
       "4     ...  13.182567   6.002171  1.242611       NaN  15.963165        NaN   \n",
       "...   ...        ...        ...       ...       ...        ...        ...   \n",
       "1433  ...  25.089962  15.685196  0.201812       NaN  36.667728        NaN   \n",
       "1434  ...  10.180052   3.944573  0.315401  0.186530  17.400070  10.009733   \n",
       "1435  ...  12.949411   5.758672  0.293677       NaN  17.025505   9.810885   \n",
       "1436  ...  11.634561   4.866195  0.962769  1.017188   7.527244   7.871110   \n",
       "1437  ...  11.634561   4.866195  0.568673  0.401644  12.743714   8.792682   \n",
       "\n",
       "         RoAvg    dRoAvg        Ro       dRo  \n",
       "0     2.423971  1.839909  2.119081  1.529742  \n",
       "1     2.423971  1.839909  2.119081  1.529742  \n",
       "2     2.423971  1.839909  2.119081  1.529742  \n",
       "3     1.334895  0.951211  1.165076  0.659860  \n",
       "4     1.373663  0.685118  1.242611       NaN  \n",
       "...        ...       ...       ...       ...  \n",
       "1433  0.248376  0.000000  0.201812       NaN  \n",
       "1434  0.427247  0.289653  0.315401  0.186530  \n",
       "1435  0.339898  0.000000  0.293677       NaN  \n",
       "1436  0.792827  1.054223  0.962769  1.017188  \n",
       "1437  0.595779  0.487886  0.568673  0.401644  \n",
       "\n",
       "[1438 rows x 73 columns]"
      ]
     },
     "execution_count": 30,
     "metadata": {},
     "output_type": "execute_result"
    }
   ],
   "source": [
    "prot_data\n",
    "# prot_data[['st_masserr1','RoM','Ro','dRo']]\n",
    "# prot_data.dRo.count()"
   ]
  },
  {
   "cell_type": "code",
   "execution_count": 31,
   "id": "4d0c95ae",
   "metadata": {},
   "outputs": [
    {
     "data": {
      "text/plain": [
       "4952"
      ]
     },
     "execution_count": 31,
     "metadata": {},
     "output_type": "execute_result"
    }
   ],
   "source": [
    "nasa_exo['pl_orbsmax'].count()"
   ]
  },
  {
   "cell_type": "code",
   "execution_count": 32,
   "id": "d2c89612",
   "metadata": {},
   "outputs": [
    {
     "data": {
      "text/plain": [
       "RoM            1405\n",
       "dRoM           1220\n",
       "RoVK           1425\n",
       "dRoVK          1265\n",
       "RoAvg          1433\n",
       "pl_orbsmax     1394\n",
       "pl_orbeccen    1371\n",
       "dtype: int64"
      ]
     },
     "execution_count": 32,
     "metadata": {},
     "output_type": "execute_result"
    }
   ],
   "source": [
    "prot_data[['RoM','dRoM','RoVK','dRoVK','RoAvg','pl_orbsmax','pl_orbeccen']].agg('count')"
   ]
  },
  {
   "cell_type": "code",
   "execution_count": 33,
   "id": "4f213242",
   "metadata": {},
   "outputs": [
    {
     "data": {
      "text/html": [
       "<div>\n",
       "<style scoped>\n",
       "    .dataframe tbody tr th:only-of-type {\n",
       "        vertical-align: middle;\n",
       "    }\n",
       "\n",
       "    .dataframe tbody tr th {\n",
       "        vertical-align: top;\n",
       "    }\n",
       "\n",
       "    .dataframe thead th {\n",
       "        text-align: right;\n",
       "    }\n",
       "</style>\n",
       "<table border=\"1\" class=\"dataframe\">\n",
       "  <thead>\n",
       "    <tr style=\"text-align: right;\">\n",
       "      <th></th>\n",
       "      <th>name</th>\n",
       "      <th>pl_orbsmax</th>\n",
       "      <th>pl_orbsmaxerr</th>\n",
       "      <th>pl_orbeccen</th>\n",
       "      <th>pl_orbeccenerr</th>\n",
       "      <th>pl_rade</th>\n",
       "      <th>pl_bmasse</th>\n",
       "      <th>pl_bmassprov</th>\n",
       "      <th>st_rad</th>\n",
       "      <th>st_raderr</th>\n",
       "      <th>RoVK</th>\n",
       "      <th>RoM</th>\n",
       "      <th>RoAvg</th>\n",
       "      <th>Ro</th>\n",
       "      <th>dRo</th>\n",
       "    </tr>\n",
       "  </thead>\n",
       "  <tbody>\n",
       "    <tr>\n",
       "      <th>0</th>\n",
       "      <td>Kepler-100 b</td>\n",
       "      <td>0.07200</td>\n",
       "      <td>NaN</td>\n",
       "      <td>0.1300</td>\n",
       "      <td>0.2700</td>\n",
       "      <td>1.320</td>\n",
       "      <td>7.34000</td>\n",
       "      <td>Mass</td>\n",
       "      <td>1.49</td>\n",
       "      <td>0.04</td>\n",
       "      <td>2.728862</td>\n",
       "      <td>2.119081</td>\n",
       "      <td>2.423971</td>\n",
       "      <td>2.119081</td>\n",
       "      <td>1.529742</td>\n",
       "    </tr>\n",
       "    <tr>\n",
       "      <th>1</th>\n",
       "      <td>Kepler-100 c</td>\n",
       "      <td>0.10900</td>\n",
       "      <td>NaN</td>\n",
       "      <td>0.0200</td>\n",
       "      <td>0.1500</td>\n",
       "      <td>2.200</td>\n",
       "      <td>7.05000</td>\n",
       "      <td>Mass</td>\n",
       "      <td>1.49</td>\n",
       "      <td>0.04</td>\n",
       "      <td>2.728862</td>\n",
       "      <td>2.119081</td>\n",
       "      <td>2.423971</td>\n",
       "      <td>2.119081</td>\n",
       "      <td>1.529742</td>\n",
       "    </tr>\n",
       "    <tr>\n",
       "      <th>2</th>\n",
       "      <td>Kepler-100 d</td>\n",
       "      <td>0.21430</td>\n",
       "      <td>NaN</td>\n",
       "      <td>0.3800</td>\n",
       "      <td>0.1600</td>\n",
       "      <td>1.610</td>\n",
       "      <td>3.00000</td>\n",
       "      <td>Mass</td>\n",
       "      <td>1.49</td>\n",
       "      <td>0.04</td>\n",
       "      <td>2.728862</td>\n",
       "      <td>2.119081</td>\n",
       "      <td>2.423971</td>\n",
       "      <td>2.119081</td>\n",
       "      <td>1.529742</td>\n",
       "    </tr>\n",
       "    <tr>\n",
       "      <th>3</th>\n",
       "      <td>Kepler-1001 b</td>\n",
       "      <td>0.11290</td>\n",
       "      <td>NaN</td>\n",
       "      <td>0.0000</td>\n",
       "      <td>NaN</td>\n",
       "      <td>3.150</td>\n",
       "      <td>10.10000</td>\n",
       "      <td>M-R relationship</td>\n",
       "      <td>0.88</td>\n",
       "      <td>0.09</td>\n",
       "      <td>1.504714</td>\n",
       "      <td>1.165076</td>\n",
       "      <td>1.334895</td>\n",
       "      <td>1.165076</td>\n",
       "      <td>0.659860</td>\n",
       "    </tr>\n",
       "    <tr>\n",
       "      <th>4</th>\n",
       "      <td>Kepler-1001 c</td>\n",
       "      <td>0.08400</td>\n",
       "      <td>NaN</td>\n",
       "      <td>0.0000</td>\n",
       "      <td>NaN</td>\n",
       "      <td>1.578</td>\n",
       "      <td>3.11000</td>\n",
       "      <td>M-R relationship</td>\n",
       "      <td>0.84</td>\n",
       "      <td>NaN</td>\n",
       "      <td>1.504714</td>\n",
       "      <td>1.242611</td>\n",
       "      <td>1.373663</td>\n",
       "      <td>1.242611</td>\n",
       "      <td>NaN</td>\n",
       "    </tr>\n",
       "    <tr>\n",
       "      <th>...</th>\n",
       "      <td>...</td>\n",
       "      <td>...</td>\n",
       "      <td>...</td>\n",
       "      <td>...</td>\n",
       "      <td>...</td>\n",
       "      <td>...</td>\n",
       "      <td>...</td>\n",
       "      <td>...</td>\n",
       "      <td>...</td>\n",
       "      <td>...</td>\n",
       "      <td>...</td>\n",
       "      <td>...</td>\n",
       "      <td>...</td>\n",
       "      <td>...</td>\n",
       "      <td>...</td>\n",
       "    </tr>\n",
       "    <tr>\n",
       "      <th>1433</th>\n",
       "      <td>WASP-43 b</td>\n",
       "      <td>0.01420</td>\n",
       "      <td>0.00040</td>\n",
       "      <td>0.0000</td>\n",
       "      <td>NaN</td>\n",
       "      <td>10.424</td>\n",
       "      <td>565.71400</td>\n",
       "      <td>Mass</td>\n",
       "      <td>0.60</td>\n",
       "      <td>NaN</td>\n",
       "      <td>0.294939</td>\n",
       "      <td>0.201812</td>\n",
       "      <td>0.248376</td>\n",
       "      <td>0.201812</td>\n",
       "      <td>NaN</td>\n",
       "    </tr>\n",
       "    <tr>\n",
       "      <th>1434</th>\n",
       "      <td>WASP-50 b</td>\n",
       "      <td>0.02930</td>\n",
       "      <td>0.00130</td>\n",
       "      <td>0.0090</td>\n",
       "      <td>0.0110</td>\n",
       "      <td>13.070</td>\n",
       "      <td>466.82870</td>\n",
       "      <td>Mass</td>\n",
       "      <td>0.84</td>\n",
       "      <td>0.03</td>\n",
       "      <td>0.539094</td>\n",
       "      <td>0.315401</td>\n",
       "      <td>0.427247</td>\n",
       "      <td>0.315401</td>\n",
       "      <td>0.186530</td>\n",
       "    </tr>\n",
       "    <tr>\n",
       "      <th>1435</th>\n",
       "      <td>WASP-77 A b</td>\n",
       "      <td>0.02335</td>\n",
       "      <td>0.00045</td>\n",
       "      <td>0.0074</td>\n",
       "      <td>0.0069</td>\n",
       "      <td>13.787</td>\n",
       "      <td>529.81995</td>\n",
       "      <td>Mass</td>\n",
       "      <td>0.91</td>\n",
       "      <td>0.03</td>\n",
       "      <td>0.386118</td>\n",
       "      <td>0.293677</td>\n",
       "      <td>0.339898</td>\n",
       "      <td>0.293677</td>\n",
       "      <td>NaN</td>\n",
       "    </tr>\n",
       "    <tr>\n",
       "      <th>1436</th>\n",
       "      <td>WASP-8 b</td>\n",
       "      <td>0.08010</td>\n",
       "      <td>0.00150</td>\n",
       "      <td>0.3100</td>\n",
       "      <td>0.0000</td>\n",
       "      <td>12.666</td>\n",
       "      <td>807.28820</td>\n",
       "      <td>Mass</td>\n",
       "      <td>1.03</td>\n",
       "      <td>0.04</td>\n",
       "      <td>0.622886</td>\n",
       "      <td>0.962769</td>\n",
       "      <td>0.792827</td>\n",
       "      <td>0.962769</td>\n",
       "      <td>1.017188</td>\n",
       "    </tr>\n",
       "    <tr>\n",
       "      <th>1437</th>\n",
       "      <td>WASP-8 c</td>\n",
       "      <td>5.28000</td>\n",
       "      <td>0.63000</td>\n",
       "      <td>0.0000</td>\n",
       "      <td>0.0000</td>\n",
       "      <td>12.500</td>\n",
       "      <td>3003.37000</td>\n",
       "      <td>Msini</td>\n",
       "      <td>0.99</td>\n",
       "      <td>0.03</td>\n",
       "      <td>0.622886</td>\n",
       "      <td>0.568673</td>\n",
       "      <td>0.595779</td>\n",
       "      <td>0.568673</td>\n",
       "      <td>0.401644</td>\n",
       "    </tr>\n",
       "  </tbody>\n",
       "</table>\n",
       "<p>1322 rows × 15 columns</p>\n",
       "</div>"
      ],
      "text/plain": [
       "               name  pl_orbsmax  pl_orbsmaxerr  pl_orbeccen  pl_orbeccenerr  \\\n",
       "0      Kepler-100 b     0.07200            NaN       0.1300          0.2700   \n",
       "1      Kepler-100 c     0.10900            NaN       0.0200          0.1500   \n",
       "2      Kepler-100 d     0.21430            NaN       0.3800          0.1600   \n",
       "3     Kepler-1001 b     0.11290            NaN       0.0000             NaN   \n",
       "4     Kepler-1001 c     0.08400            NaN       0.0000             NaN   \n",
       "...             ...         ...            ...          ...             ...   \n",
       "1433      WASP-43 b     0.01420        0.00040       0.0000             NaN   \n",
       "1434      WASP-50 b     0.02930        0.00130       0.0090          0.0110   \n",
       "1435    WASP-77 A b     0.02335        0.00045       0.0074          0.0069   \n",
       "1436       WASP-8 b     0.08010        0.00150       0.3100          0.0000   \n",
       "1437       WASP-8 c     5.28000        0.63000       0.0000          0.0000   \n",
       "\n",
       "      pl_rade   pl_bmasse      pl_bmassprov  st_rad  st_raderr      RoVK  \\\n",
       "0       1.320     7.34000              Mass    1.49       0.04  2.728862   \n",
       "1       2.200     7.05000              Mass    1.49       0.04  2.728862   \n",
       "2       1.610     3.00000              Mass    1.49       0.04  2.728862   \n",
       "3       3.150    10.10000  M-R relationship    0.88       0.09  1.504714   \n",
       "4       1.578     3.11000  M-R relationship    0.84        NaN  1.504714   \n",
       "...       ...         ...               ...     ...        ...       ...   \n",
       "1433   10.424   565.71400              Mass    0.60        NaN  0.294939   \n",
       "1434   13.070   466.82870              Mass    0.84       0.03  0.539094   \n",
       "1435   13.787   529.81995              Mass    0.91       0.03  0.386118   \n",
       "1436   12.666   807.28820              Mass    1.03       0.04  0.622886   \n",
       "1437   12.500  3003.37000             Msini    0.99       0.03  0.622886   \n",
       "\n",
       "           RoM     RoAvg        Ro       dRo  \n",
       "0     2.119081  2.423971  2.119081  1.529742  \n",
       "1     2.119081  2.423971  2.119081  1.529742  \n",
       "2     2.119081  2.423971  2.119081  1.529742  \n",
       "3     1.165076  1.334895  1.165076  0.659860  \n",
       "4     1.242611  1.373663  1.242611       NaN  \n",
       "...        ...       ...       ...       ...  \n",
       "1433  0.201812  0.248376  0.201812       NaN  \n",
       "1434  0.315401  0.427247  0.315401  0.186530  \n",
       "1435  0.293677  0.339898  0.293677       NaN  \n",
       "1436  0.962769  0.792827  0.962769  1.017188  \n",
       "1437  0.568673  0.595779  0.568673  0.401644  \n",
       "\n",
       "[1322 rows x 15 columns]"
      ]
     },
     "execution_count": 33,
     "metadata": {},
     "output_type": "execute_result"
    }
   ],
   "source": [
    "col_list = ['name','pl_orbsmax','pl_orbsmaxerr','pl_orbeccen','pl_orbeccenerr','pl_rade','pl_bmasse','pl_bmassprov','st_rad','st_raderr','RoVK','RoM','RoAvg', 'Ro', 'dRo']\n",
    "data = prot_data[prot_data['Ro'].notnull() & prot_data['pl_orbsmax'].notnull() & prot_data['pl_orbeccen'].notnull()]\n",
    "data = data[col_list].copy()\n",
    "data"
   ]
  },
  {
   "cell_type": "code",
   "execution_count": 36,
   "id": "4a5b4e16",
   "metadata": {},
   "outputs": [],
   "source": [
    "data['rperi'] = data.apply(lambda x: x['pl_orbsmax'] * (1 - x['pl_orbeccen']), axis=1)\n",
    "data['drperi'] = data.apply(lambda x: np.sqrt(np.nansum([\n",
    "    pow(x['pl_orbsmaxerr'] * (1 - x['pl_orbeccen']),2.),\n",
    "    pow(x['pl_orbsmax'] * x['pl_orbeccenerr'], 2.)])), axis=1)"
   ]
  },
  {
   "cell_type": "code",
   "execution_count": 37,
   "id": "0648dd51",
   "metadata": {
    "scrolled": false
   },
   "outputs": [
    {
     "data": {
      "text/plain": [
       "4.0"
      ]
     },
     "execution_count": 37,
     "metadata": {},
     "output_type": "execute_result"
    }
   ],
   "source": [
    "# np.max(data['Ro'])\n",
    "# np.mean(data['Ro'])\n",
    "# np.median(data['Ro'])\n",
    "# np.std(data['Ro'])\n",
    "xlim = np.ceil(np.quantile(data['Ro'],0.99))\n",
    "xlim"
   ]
  },
  {
   "cell_type": "code",
   "execution_count": 38,
   "id": "faf649f7",
   "metadata": {},
   "outputs": [],
   "source": [
    "habitable = pd.read_csv(\"habitable_nasa_fmt.txt\")\n",
    "# habitable"
   ]
  },
  {
   "cell_type": "code",
   "execution_count": 39,
   "id": "c5ea7f77",
   "metadata": {},
   "outputs": [
    {
     "data": {
      "text/plain": [
       "{'GJ 832 c', 'K2-288B b'}"
      ]
     },
     "execution_count": 39,
     "metadata": {},
     "output_type": "execute_result"
    }
   ],
   "source": [
    "nasa_habitable = pd.merge(habitable, nasa_exo, how='inner', on='name')\n",
    "# nasa_habitable\n",
    "set(habitable['name']) - set(nasa_habitable['name'])"
   ]
  },
  {
   "cell_type": "code",
   "execution_count": 40,
   "id": "b490f1b3",
   "metadata": {},
   "outputs": [],
   "source": [
    "habitable_data = pd.merge(data, habitable, how='inner', on='name')\n",
    "# habitable_data"
   ]
  },
  {
   "cell_type": "code",
   "execution_count": 41,
   "id": "4a0565eb",
   "metadata": {},
   "outputs": [],
   "source": [
    "x = np.linspace(0.,2.7,1000) # ro/ro sol x vals\n",
    "prot_sol = 27.\n",
    "ro_sol = 1.85\n",
    "dro_sol = 0.26\n",
    "ra_sol = 0.1\n",
    "dra_sol = 0.02\n",
    "r_sol = 1.\n",
    "s = -1.38\n",
    "ds = 0.14\n",
    "r = -0.16\n",
    "dr = 0.13\n",
    "# all values scaled to solar values at maximum\n",
    "# using Brun-Browning p23\n",
    "# combining eqns: (7) Farrish 2019 and (2) Farrish 2021\n",
    "def ra_schrijver(ro, rad):\n",
    "    return ra_sol * np.real(pow(ro / ro_sol, s * r) * pow(rad / r_sol, 2 * r))\n",
    "\n",
    "def dra(ro, rad, dro, drad):\n",
    "    return ra_schrijver(ro, rad) * np.sqrt(pow(dra_sol / ra_sol, 2.) +\n",
    "                                           pow(s * r *  np.sqrt(pow(dro / ro, 2.) + pow(dro_sol / ro_sol, 2.)), 2.) +\n",
    "                                           pow(2 * r * drad / rad, 2.) +\n",
    "                                           pow(r * np.log(ro / ro_sol) * ds, 2.) +\n",
    "                                           pow((s * np.log(ro / ro_sol) + 2 * np.log(rad)) * dr, 2.))"
   ]
  },
  {
   "cell_type": "code",
   "execution_count": 42,
   "id": "cfb33ed9",
   "metadata": {},
   "outputs": [],
   "source": [
    "alfven = data.apply(lambda x: x['rperi'] / ra_schrijver(x['Ro'], x['st_rad']), axis=1)\n",
    "dalfven = data.apply(lambda x: x['rperi'] / ra_schrijver(x['Ro'], x['st_rad']) * np.sqrt(pow(x['drperi'] / x['rperi'], 2.) +\n",
    "                                       pow(dra(x['Ro'], x['st_rad'], x['dRo'], x['st_raderr'] / ra_schrijver(x['Ro'], x['st_rad'])), 2.)), axis=1)\n",
    "alfven_data = data.copy(deep=False)\n",
    "alfven_data['orbit-alfven'] = alfven\n",
    "alfven_data['dorbit-alfven'] = dalfven\n",
    "alfven_data = alfven_data[alfven_data['st_rad'].notnull()]\n",
    "#optional: remove 99th quantile and bad vals\n",
    "alfven_data = alfven_data[(alfven_data['Ro'] < np.quantile(alfven_data['Ro'], 0.99)) & (alfven_data['orbit-alfven'] < np.quantile(alfven_data['orbit-alfven'], 0.99))]\n",
    "alfven_data = alfven_data[(alfven_data['Ro'] > 0.0) & (alfven_data['orbit-alfven'] > 0.0)]\n",
    "# alfven_data"
   ]
  },
  {
   "cell_type": "code",
   "execution_count": 43,
   "id": "0a53c9e0",
   "metadata": {},
   "outputs": [],
   "source": [
    "ra_data = data.apply(lambda x: ra_schrijver(x['Ro'], x['st_rad']), axis=1)\n",
    "ro_data = data['Ro']\n",
    "rad_data = data['st_rad']\n",
    "# print(\"%.4e %.4e %.4e %.4e %.4e %.4e\"%(np.mean(ro_data), np.std(ro_data), np.quantile(ro_data, 0.25), np.quantile(ro_data,0.5), np.quantile(ro_data,0.75), np.max(ro_data)))\n",
    "# print(\"%.4e %.4e %.4e %.4e %.4e %.4e\"%(np.mean(ra_data), np.std(ra_data), np.quantile(ra_data, 0.25), np.quantile(ra_data,0.5), np.quantile(ra_data,0.75), np.max(ra_data)))\n",
    "# print(\"%.4e %.4e %.4e %.4e %.4e %.4e\"%(np.mean(rad_data), np.std(rad_data), np.quantile(rad_data, 0.25), np.quantile(rad_data,0.5), np.quantile(rad_data,0.75), np.max(rad_data)))"
   ]
  },
  {
   "cell_type": "code",
   "execution_count": 44,
   "id": "be56d6e2",
   "metadata": {},
   "outputs": [
    {
     "data": {
      "image/png": "[encoded data removed]",
      "text/plain": [
       "<Figure size 432x288 with 1 Axes>"
      ]
     },
     "metadata": {
      "needs_background": "light"
     },
     "output_type": "display_data"
    }
   ],
   "source": [
    "#the alison plot\n",
    "plt.scatter(ro_data / ro_sol, ra_data / ra_sol)\n",
    "plt.plot(x, ra_schrijver(x, 1.) / ra_sol, c='black')\n",
    "plt.xlim((0.0,ro_sol))\n",
    "pass"
   ]
  },
  {
   "cell_type": "code",
   "execution_count": 45,
   "id": "9d02b05a",
   "metadata": {},
   "outputs": [
    {
     "data": {
      "text/plain": [
       "11.0"
      ]
     },
     "execution_count": 45,
     "metadata": {},
     "output_type": "execute_result"
    }
   ],
   "source": [
    "# ylim = np.ceil(np.median(alfven))\n",
    "ylim = np.ceil(np.quantile(alfven, 0.95))\n",
    "ylim"
   ]
  },
  {
   "cell_type": "code",
   "execution_count": 46,
   "id": "359b0fb6",
   "metadata": {},
   "outputs": [],
   "source": [
    "alfven_habitable = pd.merge(habitable, alfven_data, on='name')\n",
    "# alfven_habitable"
   ]
  },
  {
   "cell_type": "code",
   "execution_count": 47,
   "id": "a27ec469",
   "metadata": {},
   "outputs": [
    {
     "name": "stdout",
     "output_type": "stream",
     "text": [
      "[26, 279, 585, 400]\n",
      "1290\n"
     ]
    }
   ],
   "source": [
    "# 0.1 to 0.5 ME or 0.4 to 0.8 RE\n",
    "alfven_subterr = alfven_data[(np.fabs(alfven_data['pl_bmasse'] - 0.3) <= 0.2)]\n",
    "# alfven_subterr = alfven_data[(np.fabs(alfven_data['pl_rade'] - 0.6) <= 0.2)]\n",
    "# 0.5 to 3.0 ME or 0.8 to 1.6 RE\n",
    "alfven_terr = alfven_data[(np.fabs(alfven_data['pl_bmasse'] - 1.75) <= 1.25)]\n",
    "# alfven_terr = alfven_data[(np.fabs(alfven_data[(np.fabs(alfven_data['pl_rade'] - 1.2) <= 0.4)]\n",
    "# 3.0 to 10. ME or 1.6 to 2.5 RE\n",
    "alfven_superterr = alfven_data[(np.fabs(alfven_data['pl_bmasse'] - 6.5) <= 3.5)]\n",
    "# alfven_superterr = alfven_data[(np.fabs(alfven_data['pl_rade'] - 2.05) <= 0.45)]\n",
    "# > 10. ME or > 2.5 RE\n",
    "alfven_giant = alfven_data[(alfven_data['pl_bmasse'] > 10.)]\n",
    "# alfven_giant = alfven_data[(alfven_data['pl_rade'] > 2.5)]\n",
    "size_list = [len(alfven_subterr),len(alfven_terr),len(alfven_superterr), len(alfven_giant)]\n",
    "print(size_list)\n",
    "print(np.sum(size_list))"
   ]
  },
  {
   "cell_type": "code",
   "execution_count": 48,
   "id": "af42704c",
   "metadata": {},
   "outputs": [
    {
     "data": {
      "image/png": "[encoded data removed]",
      "text/plain": [
       "<Figure size 1080x576 with 1 Axes>"
      ]
     },
     "metadata": {},
     "output_type": "display_data"
    }
   ],
   "source": [
    "fig4 = plt.figure(figsize=(15,8))\n",
    "ax4 = fig4.add_subplot(111)\n",
    "ax4.scatter(alfven_giant['Ro'],alfven_giant['orbit-alfven'], color='#00FFFF', s=75, label='Giant')\n",
    "ax4.scatter(alfven_superterr['Ro'],alfven_superterr['orbit-alfven'], color='#FF5500', s=75, label='Superterran')\n",
    "ax4.scatter(alfven_terr['Ro'],alfven_terr['orbit-alfven'], color='#00AA00', s=75, label='Terran')\n",
    "ax4.scatter(alfven_subterr['Ro'],alfven_subterr['orbit-alfven'], color='#DDBB44', s=75, label='Subterran')\n",
    "ax4.scatter(alfven_habitable['Ro'], alfven_habitable['orbit-alfven'], color='#0000FF', s=250, marker='*', label='Habitable')\n",
    "    \n",
    "ax4.set_title(\"Exoplanet Periastrons and RA Estimates\",fontsize=25)\n",
    "ax4.set_xlabel(\"Ro\",fontsize=20)\n",
    "ax4.set_ylabel(\"rp/RA\",fontsize=20)\n",
    "plt.xticks(fontsize=15)\n",
    "plt.yticks(fontsize=15)\n",
    "ax4.grid(visible=True)\n",
    "ax4.set_xlim([0.0,xlim])\n",
    "ax4.set_ylim([0.0,ylim])\n",
    "ax4.legend(loc=1,fontsize=15)\n",
    "fig4.set_facecolor('white')\n",
    "plt.axhline(y = 1.0, xmin = 0.00, xmax = np.max(data['RoAvg']), linestyle='--', color='#666666')\n",
    "plt.text(xlim + .02, 0.98, 'AS', fontsize=15)\n",
    "pass"
   ]
  },
  {
   "cell_type": "code",
   "execution_count": 49,
   "id": "ada70a87",
   "metadata": {},
   "outputs": [
    {
     "name": "stdout",
     "output_type": "stream",
     "text": [
      "[1, 10, 11, 2]\n",
      "24\n"
     ]
    }
   ],
   "source": [
    "habitable_alfven_subterr = pd.merge(habitable, alfven_subterr, how='inner', on='name')\n",
    "habitable_alfven_terr = pd.merge(habitable, alfven_terr, how='inner', on='name')\n",
    "habitable_alfven_superterr = pd.merge(habitable, alfven_superterr, how='inner', on='name')\n",
    "habitable_alfven_giant = pd.merge(habitable, alfven_giant, how='inner', on='name')\n",
    "habitable_size_list = [len(habitable_alfven_subterr),len(habitable_alfven_terr),len(habitable_alfven_superterr), len(habitable_alfven_giant)]\n",
    "print(habitable_size_list)\n",
    "print(np.sum(habitable_size_list))"
   ]
  },
  {
   "cell_type": "code",
   "execution_count": 58,
   "id": "6a1e59d5",
   "metadata": {},
   "outputs": [
    {
     "data": {
      "text/plain": [
       "['GJ 273 b',\n",
       " 'GJ 3293 d',\n",
       " 'K2-18 b',\n",
       " 'Kepler-1229 b',\n",
       " 'Kepler-1410 b',\n",
       " 'Kepler-155 c',\n",
       " 'Kepler-1652 b',\n",
       " 'Kepler-186 f',\n",
       " 'Kepler-283 c',\n",
       " 'Kepler-296 e',\n",
       " 'Kepler-296 f',\n",
       " 'Kepler-440 b',\n",
       " 'Kepler-62 e',\n",
       " 'Kepler-62 f',\n",
       " 'Kepler-705 b',\n",
       " 'LHS 1140 b',\n",
       " 'Proxima Cen b',\n",
       " 'Ross 128 b',\n",
       " 'TOI-700 d',\n",
       " 'TRAPPIST-1 d',\n",
       " 'TRAPPIST-1 e',\n",
       " 'TRAPPIST-1 f',\n",
       " 'TRAPPIST-1 g',\n",
       " 'Wolf 1061 c']"
      ]
     },
     "execution_count": 58,
     "metadata": {},
     "output_type": "execute_result"
    }
   ],
   "source": [
    "# habitable_alfven_subterr\n",
    "# habitable_alfven_terr\n",
    "# habitable_alfven_superterr\n",
    "# habitable_alfven_giant\n",
    "habitable_alfven_all = pd.merge(habitable_alfven_giant, pd.merge(habitable_alfven_superterr, pd.merge(habitable_alfven_terr, habitable_alfven_subterr, how='outer'), how='outer'), how='outer')\n",
    "# habitable_alfven_all\n",
    "sorted(list(habitable_alfven_all['name']))"
   ]
  },
  {
   "cell_type": "code",
   "execution_count": 51,
   "id": "9d03209d",
   "metadata": {},
   "outputs": [
    {
     "data": {
      "text/plain": [
       "1.5"
      ]
     },
     "execution_count": 51,
     "metadata": {},
     "output_type": "execute_result"
    }
   ],
   "source": [
    "xlim_habitable = np.ceil(2 * np.max(habitable_alfven_all['Ro'])) / 2.\n",
    "xlim_habitable"
   ]
  },
  {
   "cell_type": "code",
   "execution_count": 52,
   "id": "a9834036",
   "metadata": {},
   "outputs": [
    {
     "data": {
      "text/plain": [
       "7.0"
      ]
     },
     "execution_count": 52,
     "metadata": {},
     "output_type": "execute_result"
    }
   ],
   "source": [
    "ylim_habitable = np.ceil(2 * np.max(habitable_alfven_all['orbit-alfven'])) / 2.\n",
    "ylim_habitable"
   ]
  },
  {
   "cell_type": "code",
   "execution_count": 53,
   "id": "e989a1b0",
   "metadata": {},
   "outputs": [],
   "source": [
    "# habitable"
   ]
  },
  {
   "cell_type": "code",
   "execution_count": 54,
   "id": "e0d35ad1",
   "metadata": {},
   "outputs": [
    {
     "name": "stderr",
     "output_type": "stream",
     "text": [
      "/home/asatk/miniconda3/envs/astr3/lib/python3.9/site-packages/numpy/core/_methods.py:44: RuntimeWarning: invalid value encountered in reduce\n",
      "  return umr_minimum(a, axis, None, out, keepdims, initial, where)\n",
      "/home/asatk/miniconda3/envs/astr3/lib/python3.9/site-packages/numpy/core/_methods.py:40: RuntimeWarning: invalid value encountered in reduce\n",
      "  return umr_maximum(a, axis, None, out, keepdims, initial, where)\n"
     ]
    },
    {
     "data": {
      "image/png": "[encoded data removed]",
      "text/plain": [
       "<Figure size 1080x576 with 1 Axes>"
      ]
     },
     "metadata": {},
     "output_type": "display_data"
    }
   ],
   "source": [
    "label_set = habitable_alfven_all.iterrows()\n",
    "\n",
    "fig5 = plt.figure(figsize=(15,8))\n",
    "ax5 = fig5.add_subplot(111)\n",
    "ax5.errorbar(habitable_alfven_all['Ro'], habitable_alfven_all['orbit-alfven'], xerr=habitable_alfven_all['dRo'], yerr=habitable_alfven_all['dorbit-alfven'], linestyle='None', ecolor='#333333')\n",
    "ax5.scatter(habitable_alfven_giant['Ro'],habitable_alfven_giant['orbit-alfven'], color='#00FFFF', s=75, label='Giant')\n",
    "ax5.scatter(habitable_alfven_superterr['Ro'],habitable_alfven_superterr['orbit-alfven'], color='#FF5500', s=75, label='Superterran')\n",
    "ax5.scatter(habitable_alfven_terr['Ro'],habitable_alfven_terr['orbit-alfven'], color='#00AA00', s=75, label='Terran')\n",
    "ax5.scatter(habitable_alfven_subterr['Ro'],habitable_alfven_subterr['orbit-alfven'], color='#DDBB44', s=75, label='Subterran')\n",
    "\n",
    "for idx, row in label_set:\n",
    "    xpt = row['Ro']\n",
    "    ypt = row['orbit-alfven']\n",
    "    lbl = row['name']\n",
    "    ax5.text(xpt + 0.02, ypt + 0.01, lbl, fontsize=20)\n",
    "    \n",
    "ax5.set_title(\"Habitable Exoplanet Periastrons and RA Estimates\",fontsize=25)\n",
    "ax5.set_xlabel(\"Ro\",fontsize=20)\n",
    "ax5.set_ylabel(\"rp/RA\",fontsize=20)\n",
    "plt.xticks(fontsize=15)\n",
    "plt.yticks(fontsize=15)\n",
    "ax5.grid(visible=True)\n",
    "ax5.set_xlim([0.0,xlim_habitable])\n",
    "ax5.set_ylim([0.0,ylim_habitable])\n",
    "ax5.legend(loc=2,fontsize=15)\n",
    "fig5.set_facecolor('white')\n",
    "plt.axhline(y = 1.0, xmin = 0.00, xmax = np.max(data['Ro']), linestyle='--', color='#666666')\n",
    "plt.text(xlim_habitable + .02, 0.98, 'AS', fontsize=15)\n",
    "pass"
   ]
  },
  {
   "cell_type": "code",
   "execution_count": null,
   "id": "1eec82bc",
   "metadata": {},
   "outputs": [],
   "source": []
  }
 ],
 "metadata": {
  "kernelspec": {
   "display_name": "Python 3",
   "language": "python",
   "name": "python3"
  },
  "language_info": {
   "codemirror_mode": {
    "name": "ipython",
    "version": 3
   },
   "file_extension": ".py",
   "mimetype": "text/x-python",
   "name": "python",
   "nbconvert_exporter": "python",
   "pygments_lexer": "ipython3",
   "version": "3.9.6"
  }
 },
 "nbformat": 4,
 "nbformat_minor": 5
}
